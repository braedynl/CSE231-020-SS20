{
 "cells": [
  {
   "cell_type": "markdown",
   "metadata": {},
   "source": [
    "# More on Classes\n",
    "## CSE231 - Bonus Reading (Draft 1, WIP 3/24/2020)"
   ]
  },
  {
   "cell_type": "markdown",
   "metadata": {},
   "source": [
    "## Introduction"
   ]
  },
  {
   "cell_type": "markdown",
   "metadata": {},
   "source": [
    "As I'm sure you've all heard from me multiple times now, classes are an extremely difficult topic to comprehend for most new programmers. They're a level of abstraction that goes well beyond the scope of variables and functions. To draw some comparisons, it might be helpful to think of it like this:\n",
    "\n",
    "- With *variables*, we give *values* names to be used in later parts of our code\n",
    "- With *functions*, we give *chunks of code* names to be used in later parts of our code\n",
    "- With *classes*, we give *chunks of __functions__ and __variables__* names to be used in later parts of our code\n",
    "\n",
    "Classes can act as *templates* for the instantiation of an *object*. \"Object\", in the way I'm referring to it here, is a general term for anything in Python that holds *a value* or *set of values* in some capacity. You'll pretty commonly read people online refer to classes as \"objects\" interchangeably since it evokes the same idea. So for instance, an `int` is an object/class. `int`s are classes that are meant to hold a set of number-characters in a specific order (the value). The *class* `int`, then, has specially defined behavior to add, subtract, multiply -- whatever, in a specific way. Obviously, if we were to just store digits as a set of characters that we as humans think of as \"numbers\", our computer wouldn't know how to \"add\" or \"subtract\" these weird sets of characters unless we *show it how*. And we accomplish this by giving the *class* encoded, specially-defined behavior to effectively say: \"Computer, treat these characters, '0123456789', differently from the others. Any characters that are in this set: 'ABCDEFGHIJKLMNOPQRSTUVWXYZ', are not allowed to be added, subtracted, etc..\".\n",
    "\n",
    "If we're tying it back to my original comparison, the `int` class likely has __variables__ to hold whatever number is set by the programmer, and then when you add or subtract, you're likely calling some sort of __function__ somewhere in the `int` class to invoke that specially defined behaviour.\n",
    "\n",
    "It might come as no surprise, then, that *all* of the \"types\" we've been working with this entire semester have been *classes*. `int`, `float`, `str`, `list`, `tuple` -- *everything*. The word \"type\" is *also* interchangeably used to refer to \"classes\". These classes are pre-made and *extremely* useful in many applications, which is why they are built in such a way to cooperate with *other classes* that the programmer builds themselves. The `dict` object then, as you might come to conclude, is a hugely complicated mixture of these types. You have classes that act as keys, classes that act as values, and if your values are something like a `list`, then that `list` *class* is holding *even more* classes!\n",
    "\n",
    "To tie it all back around to the *first week of CSE231*, we used the `type()` function to find what the type of a variable/value is."
   ]
  },
  {
   "cell_type": "code",
   "execution_count": 1,
   "metadata": {},
   "outputs": [
    {
     "name": "stdout",
     "output_type": "stream",
     "text": [
      "<class 'str'>\n"
     ]
    }
   ],
   "source": [
    "print( type(\"Hello, world!\") )"
   ]
  },
  {
   "cell_type": "markdown",
   "metadata": {},
   "source": [
    "You'll likely notice that it calls the value: *class* 'str'. 'str' is the *name* of the class. The `str` class, then, has __functions__ that work specifically with `str` types, like `.lower()`, `.upper()`, `.join()`, so on and so forth. `\"Hello, world!\"` is the *value* contained within *our specific instantiation* of an `str` class, likely stored in some __variable__ somewhere, while the method __functions__ I listed above are used to interact with the instantiation.\n",
    "\n",
    "- When we store *values* in a class through some __variable__, we call this *__a data member__*. You'll also sometimes see it referred to as *an attribute*. \n",
    "\n",
    "\n",
    "- When we create __functions__ in a class, we call this *__a method function__*. You'll also sometimes see it referred to as *a method*. \n",
    "\n",
    "We've worked with other method functions quite a bit now, and have been referring to them as such. Likely the new bit to you is the *data member* concept. But, remember when we talked about the `int` class? When you assign, "
   ]
  },
  {
   "cell_type": "code",
   "execution_count": 2,
   "metadata": {},
   "outputs": [],
   "source": [
    "a = 2"
   ]
  },
  {
   "cell_type": "markdown",
   "metadata": {},
   "source": [
    ".. what are you doing? Well, you're creating an instantiation of an `int` class, with a *data member* of `2`! You've likely been creating *thousands* of data members, but just didn't know it. \n",
    "\n",
    "Okay, so hopefully drawing comparisons to the classes we've been working with so far helps. Before we jump into making classes of our own, there's one more thing I want to preface..."
   ]
  },
  {
   "cell_type": "markdown",
   "metadata": {},
   "source": [
    "## User-Made Class Instantiation vs. Default Python Class Instantiation"
   ]
  },
  {
   "cell_type": "markdown",
   "metadata": {},
   "source": [
    "What I just described to you in that lengthy introduction *is a way to think about classes*. For most of the classes that come pre-packaged with Python, you'll come to realize that the way we declare classes of our own during assignment/instantiation is a bit different.\n",
    "\n",
    "To describe what I mean, when you write something like:"
   ]
  },
  {
   "cell_type": "code",
   "execution_count": 3,
   "metadata": {},
   "outputs": [],
   "source": [
    "my_int = 1"
   ]
  },
  {
   "cell_type": "markdown",
   "metadata": {},
   "source": [
    ".. Python *knows* you're creating an `int` because the `int` class is a fundamental part of the language. When you just type a raw \"number-character\" on the right-hand side of an assignment, Python thinks, \"Oh, okay! You want an `int` with an attribute of `1`.\"\n",
    "\n",
    "Likewise, when you type something like:"
   ]
  },
  {
   "cell_type": "code",
   "execution_count": 4,
   "metadata": {},
   "outputs": [],
   "source": [
    "my_str = \"Hello, world!\""
   ]
  },
  {
   "cell_type": "markdown",
   "metadata": {},
   "source": [
    "Again, Python figures out that you're creating an instance of an `str` class because you opened and closed a set of quotation marks in the coding space. The `str` class comes pre-defined with Python, and so there are special rules in the coding space to treat anything wrapped in quotations as an `str` object. \n",
    "\n",
    "This of course applies to `float` (numbers with a `.` character), `list` (square brackets, `[`, `]`), `dict` (curly braces, `{`, `}`), etc.. These all have special characters in the coding space because Python *knows* that they exist, and that they'll be used *very often* by programmers everywhere. The less typing you have to do, the better.\n",
    "\n",
    "When we create our own classes, you'll see an assignment akin to this:"
   ]
  },
  {
   "cell_type": "code",
   "execution_count": null,
   "metadata": {},
   "outputs": [],
   "source": [
    "my_class = MyCoolClass()"
   ]
  },
  {
   "cell_type": "markdown",
   "metadata": {},
   "source": [
    "It looks kind of like taking the return of a function-call, which can be a bit confusing. A pretty common standard to differentiate between classes and functions is to make class names without underscores and in \"camel-case\" (i.e. capitalizing the first character of each word in your class name). You would then make your function names in all lowercase *with* underscores.\n",
    "\n",
    "You might remember that there's also this thing.."
   ]
  },
  {
   "cell_type": "code",
   "execution_count": 5,
   "metadata": {},
   "outputs": [],
   "source": [
    "my_int = int(1)"
   ]
  },
  {
   "cell_type": "markdown",
   "metadata": {},
   "source": [
    "This, as you've probably noticed, looks like the user-made class instantiation I just talked about. This is *also* an equivalent way to create an instantiation of an `int`. So what's the difference between just typing a number on the RHS versus typing `int()` with an input value? Well, we'll talk about it in a bit."
   ]
  },
  {
   "cell_type": "markdown",
   "metadata": {},
   "source": [
    "## What We'll Be Doing"
   ]
  },
  {
   "cell_type": "markdown",
   "metadata": {},
   "source": [
    "For the purposes of CSE231, we're going to be creating classes as *objects*. I know that what I said there might be confusing, since I said that the two words can be used interchangeably. *For the most part*, they can be used interchangeably because you'll *usually* be creating classes as objects -- things that hold values and have special behavior. \n",
    "\n",
    "There is another thing you can do with classes in Python, which is creating *packages*. We will not be talking about classes with respect to package creation since creating objects is a much more widely used application of classes. A lot of the modules that we commonly import are inside package-classes. \n",
    "\n",
    "When we create a class, the bare minimum that you need is the declaration of one. It won't be useful, obviously, but it's a start. We use the `class` keyword to tell Python we're about to create one. After that, we give it a name. Like functions, we can put a set of parentheses after the name, but *you do not put parameters here* in the traditional sense. These parentheses are to supply *parent-classes*. Something that we'll be talking about later. When we're creating a singular object, a pretty common practice is to supply the `object` keyword here. "
   ]
  },
  {
   "cell_type": "code",
   "execution_count": 6,
   "metadata": {},
   "outputs": [],
   "source": [
    "class MyCoolClass(object):\n",
    "    pass"
   ]
  },
  {
   "cell_type": "markdown",
   "metadata": {},
   "source": [
    "For the entirety of this notebook, we're going to be building upon a class dedicated to simulating a three-dimensional vector. If you're unfamiliar with vectors, I'll describe the basics here.\n",
    "\n",
    "________________\n",
    "\n",
    "### Quick Vector Rundown (skip if you're already familiar with vectors)\n",
    "\n",
    "To simplify, we'll transfer down to two-dimensions temporarily. A vector is described by two components in two-dimensional space, commonly referred to as the $\\vec{i}$ component, and the $\\vec{j}$ component. The $\\vec{i}$ component describes how far left/right you go in space, (negative signifying left, positive signifying right), and the $\\vec{j}$ component describes how far up/down you go in space (positive signifying up, negative signifying down).\n",
    "\n",
    "(This is glossing over a lot of detail, but for the purposes of creating our class, this is what you'll need to know)\n",
    "\n",
    "If we're using the traditional Cartesian coordinate system, (the xy-plane that you've probably been working with your entire life until Calc 2), then we can equivalently say that the $\\vec{i}$ component will tell us how far in the $+x$ or $-x$ direction to go, while the $\\vec{j}$ component will tell us how far in the $+y$ or $-y$ direction to go. \n",
    "\n",
    "Once we move in our specified direction, we draw an arrow starting from the origin, and finishing at the location at which we stopped to signify that the line we drew is a vector, and not something like a line. This is a vector in *standard position*. You can move it to be anywhere in the plane, and it will always be the same vector as long as its direction and length are the same. \n",
    "\n",
    "So as an example, let's create a vector and call it $\\vec{v}$:\n",
    "\n",
    "$$\\vec{v}=1\\vec{i}+2\\vec{j}$$\n",
    "\n",
    "It has an $\\vec{i}$ component of 1, and a $\\vec{j}$ component of 2. Below I've created a function that will plot vectors for us. Let's go ahead and plot the vector we have above to see what it looks like (you don't need to understand the code, just look at the plot):"
   ]
  },
  {
   "cell_type": "code",
   "execution_count": 7,
   "metadata": {
    "scrolled": false
   },
   "outputs": [],
   "source": [
    "import matplotlib.pyplot as plt\n",
    "from mpl_toolkits.mplot3d import Axes3D\n",
    "\n",
    "def plot_vector(i, j, k, xlim:tuple, ylim:tuple, zlim:tuple, figsize=(6, 6), color='r', rotation=200):\n",
    "    \n",
    "    fig = plt.figure(figsize=figsize)\n",
    "    \n",
    "    if k:    # If k component is supplied (implies z axis)\n",
    "        \n",
    "        ax = fig.add_subplot(111, projection='3d')\n",
    "        plt.quiver(0, 0, 0, i, j, k, color=color)\n",
    "        \n",
    "        ax.set_xlim(xlim[0], xlim[1])\n",
    "        ax.set_ylim(ylim[0], ylim[1])\n",
    "        ax.set_zlim(zlim[0], zlim[1])\n",
    "        \n",
    "        ax.set_xlabel(\"X\")\n",
    "        ax.set_ylabel(\"Y\")\n",
    "        ax.set_zlabel(\"Z\")\n",
    "        \n",
    "        plt.grid()\n",
    "        \n",
    "        ax.view_init(20, rotation)\n",
    "        \n",
    "        plt.title(\"Vector <{}, {}, {}>\".format(i, j, k))\n",
    "    \n",
    "    else:    # If just i and j component (implies just xy axes)\n",
    "        \n",
    "        fig, ax = plt.subplots(figsize=figsize)\n",
    "        plt.quiver(0, 0, i, j, scale=1, units='xy', color=color)\n",
    "        \n",
    "        ax.set_xlim(xlim[0], xlim[1])\n",
    "        ax.set_ylim(ylim[0], ylim[1])\n",
    "        \n",
    "        ax.set_aspect(\"equal\")\n",
    "\n",
    "        ax.axhline(y=0, color='k')\n",
    "        ax.axvline(x=0, color='k')\n",
    "\n",
    "        plt.grid()\n",
    "\n",
    "        plt.annotate('X', (2, 0), xytext=(xlim[1] - 0.3, 0.1))\n",
    "        plt.annotate('Y', (0, 2), xytext=(0.1, ylim[1] - 0.4))\n",
    "\n",
    "        plt.scatter(i, j)\n",
    "        plt.annotate(\"({}, {})\".format(i, j), (i, j), xytext=(i, j + 0.3))\n",
    "        \n",
    "        plt.title(\"Vector <{}, {}>\".format(i, j))\n",
    "\n",
    "    \n",
    "plot_vector(1, 2, 0, xlim=(-1, 3), ylim=(-1, 3), zlim=(-1, 3))"
   ]
  },
  {
   "cell_type": "markdown",
   "metadata": {},
   "source": [
    "Pretty simple, right? Above the plot, you'll see that I labelled the vector $<1,\\ 2>$, this is an equivalent notation to $1\\vec{i}+2\\vec{j}$. \n",
    "\n",
    "So what about in three dimensions, then? Well, it's pretty much exactly as you would expect! We have a component that tells us how far into the $x$ direction we move, we have a component that tells us how far into the $y$ direction to move, and so now we'll expand into the third dimension and add a $z$ axis with a third component, $\\vec{k}$!\n",
    "\n",
    "Going off of the example from before, then, let's add a $\\vec{k}$ component to the mix!\n",
    "\n",
    "$$\\vec{v}=1\\vec{i}+2\\vec{j}+3\\vec{k}$$\n",
    "\n",
    "Plotting this, would then look like:"
   ]
  },
  {
   "cell_type": "code",
   "execution_count": 8,
   "metadata": {},
   "outputs": [
    {
     "data": {
      "image/png": "[encoded data removed]",
      "text/plain": [
       "<Figure size 432x432 with 1 Axes>"
      ]
     },
     "metadata": {
      "needs_background": "light"
     },
     "output_type": "display_data"
    }
   ],
   "source": [
    "plot_vector(1, 2, 3, xlim=(-3, 3), ylim=(-3, 3), zlim=(-3, 3))"
   ]
  },
  {
   "cell_type": "markdown",
   "metadata": {},
   "source": [
    "Be mindful of the axis labels! I realize that it might be a bit difficult to see exactly where it starts and ends, but hopefully you can imagine the directions in your head. We move 1 unit into the $+x$ axis, 2 units into the $+y$ axis, and 3 units into the $+z$ axis. \n",
    "\n",
    "You'll notice that the angle bracket notation *also* builds off of the previous. Where, instead of $<1,\\ 2>$, we now have $<1,\\ 2,\\ 3>$. And in case you need more examples.."
   ]
  },
  {
   "cell_type": "code",
   "execution_count": 9,
   "metadata": {},
   "outputs": [
    {
     "data": {
      "text/plain": [
       "<Figure size 432x432 with 0 Axes>"
      ]
     },
     "metadata": {},
     "output_type": "display_data"
    },
    {
     "data": {
      "image/png": "[encoded data removed]",
      "text/plain": [
       "<Figure size 432x432 with 1 Axes>"
      ]
     },
     "metadata": {
      "needs_background": "light"
     },
     "output_type": "display_data"
    }
   ],
   "source": [
    "# vector <-2, 2>\n",
    "\n",
    "plot_vector(-2, 2, 0, xlim=(-3, 3), ylim=(-3, 3), zlim=(-3, 3))"
   ]
  },
  {
   "cell_type": "code",
   "execution_count": 10,
   "metadata": {},
   "outputs": [
    {
     "data": {
      "image/png": "[encoded data removed]",
      "text/plain": [
       "<Figure size 432x432 with 1 Axes>"
      ]
     },
     "metadata": {
      "needs_background": "light"
     },
     "output_type": "display_data"
    }
   ],
   "source": [
    "# vector <-1, 2, -3>\n",
    "\n",
    "plot_vector(-1, 2, -3, xlim=(-3, 3), ylim=(-3, 3), zlim=(-3, 3))"
   ]
  },
  {
   "cell_type": "code",
   "execution_count": 11,
   "metadata": {},
   "outputs": [
    {
     "data": {
      "image/png": "[encoded data removed]",
      "text/plain": [
       "<Figure size 432x432 with 1 Axes>"
      ]
     },
     "metadata": {
      "needs_background": "light"
     },
     "output_type": "display_data"
    }
   ],
   "source": [
    "# same vector, different angle\n",
    "\n",
    "# check axis labels\n",
    "\n",
    "plot_vector(-1, 2, -3, xlim=(-3, 3), ylim=(-3, 3), zlim=(-3, 3), rotation=30)"
   ]
  },
  {
   "cell_type": "markdown",
   "metadata": {},
   "source": [
    "Alright, math lecture over for now.\n",
    "\n",
    "___________________\n",
    "\n",
    "## Justification (also an optional read)\n",
    "\n",
    "I forgot I was talking about Python for a second there! \n",
    "\n",
    "Alright, so that's the very basics on vectors. Obviously, if I'm able to simulate vector-like behaviour already with Python, why would we need a class for them?\n",
    "\n",
    "Well, here I'm just *plotting* them. I'm simply plugging in component by component into a big function. But, there are reasons for why vectors exist in mathematics, right? We can do a lot of things with them, *other* than just plot them. In physics, vectors are used *a lot* to do things like, simulate the behaviour of a [force](https://en.wikipedia.org/wiki/Force) acting on an object for instance. In multivariable calculus, we can simulate the flow of liquid through the creation of [vector fields](https://en.wikipedia.org/wiki/Vector_field).\n",
    "\n",
    "The point I'm trying to make here is that a lot of applications *for* vectors come from *abstractions of them*. The trouble with them is this and that they have too many damn things to carry around. If we simply want to sum together two 3D vectors, for example (which is done component by component)..."
   ]
  },
  {
   "cell_type": "code",
   "execution_count": 12,
   "metadata": {},
   "outputs": [
    {
     "name": "stdout",
     "output_type": "stream",
     "text": [
      "v_3 : <5, 7, 9>\n"
     ]
    }
   ],
   "source": [
    "# we would have to do something like this...\n",
    "\n",
    "v_1i = 1\n",
    "v_1j = 2\n",
    "v_1k = 3\n",
    "\n",
    "v_2i = 4\n",
    "v_2j = 5\n",
    "v_2k = 6\n",
    "\n",
    "v_3i = v_1i + v_2i\n",
    "v_3j = v_1j + v_2j\n",
    "v_3k = v_1k + v_2k\n",
    "\n",
    "print(\"v_3 : <{}, {}, {}>\".format(v_3i, v_3j, v_3k))"
   ]
  },
  {
   "cell_type": "markdown",
   "metadata": {},
   "source": [
    "You could maybe improve this process with lists...?"
   ]
  },
  {
   "cell_type": "code",
   "execution_count": 13,
   "metadata": {},
   "outputs": [
    {
     "name": "stdout",
     "output_type": "stream",
     "text": [
      "v_3 : <5, 7, 9>\n"
     ]
    }
   ],
   "source": [
    "v_1 = [1, 2, 3]\n",
    "v_2 = [4, 5, 6]\n",
    "\n",
    "v_3 = [ v_1[i] + v_2[i] for i in range(len(v_1)) ]\n",
    "\n",
    "print(\"v_3 : <{}, {}, {}>\".format(v_3[0], v_3[1], v_3[2]))"
   ]
  },
  {
   "cell_type": "markdown",
   "metadata": {},
   "source": [
    "Better, but still pretty stupid to do. *Especially* if we have to write that expression multiple times, and when we get to more complicated abstractions, we might not be able to do something like this.\n",
    "\n",
    "If only we had a data structure that could not only *hold* all of these values for us, but also could operate catered to the way vectors work in mathematics... hmmm... 🤔 \n",
    "\n",
    "*__This__* is the reason we have classes. We can not only create objects to hold a multitude of values for us, but we can also have the object *interact with others in certain ways*!"
   ]
  },
  {
   "cell_type": "markdown",
   "metadata": {},
   "source": [
    "## `__init__()` / `self`\n",
    "\n",
    "Let's *finally* get started then, shall we? We're going to first create the declaration."
   ]
  },
  {
   "cell_type": "code",
   "execution_count": 14,
   "metadata": {},
   "outputs": [],
   "source": [
    "class Vector(object):\n",
    "    pass"
   ]
  },
  {
   "cell_type": "markdown",
   "metadata": {},
   "source": [
    "And now we need to define how a `Vector()` is created. Since I said at the beginning that we'll be creating a three-dimensional vector, we're going to work under the assumption that the user will input all three components (and if they supply a $\\vec{k}$ component of 0, that's pretty much equivalent to a 2D vector in the xy-plane, anyways).\n",
    "\n",
    "This is where the *data members* come in. Remember those? We're going to have the programmer input an `i`, `j` and `k` component, and then the `Vector()` object will hold those values for as long as the object exists. \n",
    "\n",
    "This is the job of the __*constructor*__. The constructor has a pre-defined function name and is what you'll *always* use to define how an object is created. The name is `__init__()`. It's for sure ugly, but it's what you use. Like any function, it has parameters that you can create. *The parameters of `__init__()` are the parameters you invoke during a class instantiation.*\n",
    "\n",
    "But before we develop our constructor, we need to talk about one another thing... the `self` keyword. This keyword is unique amongst the many, already existing keywords in Python, in that, it is only used with respect to classes. What it is is hard to define, but I'll try my best here. \n",
    "\n",
    "Imagine we create an instantiation of a `list`.."
   ]
  },
  {
   "cell_type": "code",
   "execution_count": 15,
   "metadata": {},
   "outputs": [],
   "source": [
    "my_list = [5, 2, 6, 1, 3, 9]"
   ]
  },
  {
   "cell_type": "markdown",
   "metadata": {},
   "source": [
    ".. and we call `.sort()` on it.."
   ]
  },
  {
   "cell_type": "code",
   "execution_count": 16,
   "metadata": {},
   "outputs": [
    {
     "name": "stdout",
     "output_type": "stream",
     "text": [
      "[1, 2, 3, 5, 6, 9]\n"
     ]
    }
   ],
   "source": [
    "my_list.sort()\n",
    "\n",
    "print(my_list)"
   ]
  },
  {
   "cell_type": "markdown",
   "metadata": {},
   "source": [
    "What we just did, when you think about it, is that we told the instantiation of our `list` object to edit itself. Your class needs to have some way of accessing what its *self* contains. And so you can think of the `self` keyword as signifying that something *belongs* to the class. `self` will *always* be the first \"parameter\" in every method function you create for this reason. But unlike traditional parameters, *it is not invoked by the caller in the parameter space*. The `self` in the `list` example I gave above, would be the instantiation of that list, `[5, 2, 6, 1, 3, 9]`, stored inside the variable `my_list`. We'll talk about `self` more in a second here. Let's, for now, just go with the idea that we always need `self` as the first argument if this didn't make sense."
   ]
  },
  {
   "cell_type": "code",
   "execution_count": 17,
   "metadata": {},
   "outputs": [],
   "source": [
    "class Vector(object):\n",
    "    \n",
    "    def __init__(self):\n",
    "        pass"
   ]
  },
  {
   "cell_type": "markdown",
   "metadata": {},
   "source": [
    "We now have the constructor, but on creation of a `Vector()` object, we want it to have components right? So how do we signify that? Well, we again use `self`, along with a name for the variables that store our values -- *the data members*. For our sake, that would be the `i`, `j` and `k` components!"
   ]
  },
  {
   "cell_type": "code",
   "execution_count": 18,
   "metadata": {},
   "outputs": [],
   "source": [
    "class Vector(object):\n",
    "    \n",
    "    def __init__(self):\n",
    "        self.i = 0    # self.{variable name} signifies a data member\n",
    "        self.j = 0\n",
    "        self.k = 0"
   ]
  },
  {
   "cell_type": "markdown",
   "metadata": {},
   "source": [
    "Well now it's fairly boring, right? We currently just have a vector that is going 0 units in all directions. We ideally want to *define those ourselves*, and so let's upgrade our constructor. Remember when I said: \"*The parameters of `__init__()` are the parameters you invoke during a class instantiation.*\"? What we'll do then, is create parameters for the constructor that will pass the values *to the data members*."
   ]
  },
  {
   "cell_type": "code",
   "execution_count": 19,
   "metadata": {},
   "outputs": [],
   "source": [
    "class Vector(object):\n",
    "    \n",
    "    def __init__(self, i_comp, j_comp, k_comp):\n",
    "        self.i = i_comp\n",
    "        self.j = j_comp\n",
    "        self.k = k_comp"
   ]
  },
  {
   "cell_type": "markdown",
   "metadata": {},
   "source": [
    "What this effectively does, then, is require us to pass in those corresponding parameters (`i_comp`, `j_comp`, `k_comp`) during our instantiation of a `Vector()` class! So if we were to formalize the layout of our code to someone else, we would say:\n",
    "\n",
    "A `Vector()` object takes three parameters:\n",
    "```\n",
    "Vector( i_comp, j_comp, k_comp)\n",
    "```\n",
    "\n",
    "and so, outside of our class, that would look like this.."
   ]
  },
  {
   "cell_type": "code",
   "execution_count": 20,
   "metadata": {},
   "outputs": [],
   "source": [
    "v = Vector(1, 2, 3)"
   ]
  },
  {
   "cell_type": "markdown",
   "metadata": {},
   "source": [
    "Here, I'm calling `Vector()` with `i_comp = 1`, `j_comp = 2`, and `k_comp = 3`. Those `_comp` parameters will then be passed along to the data members we named `i`, `j` and `k`. \n",
    "\n",
    "This might be a bit confusing, because didn't we technically have 4 parameters? `self`, `i_comp`, `j_comp` and `k_comp`? We only called with 3, did we not? Think of it this way:\n",
    "\n",
    "When we call `Vector(1, 2, 3)` and break it into parts, we find that we *actually do* have 4 things. What you'll have is..\n",
    "\n",
    "- `Vector()`\n",
    "- `1`\n",
    "- `2`\n",
    "- `3`\n",
    "\n",
    "`Vector()` -- the object *itself*, is \"taking the place\" of the *`self`* parameter in the constructor function. Making the mapping of parameters look kinda like this:\n",
    "\n",
    "- `Vector()`   -> `self`\n",
    "- `1`          -> `i_comp`\n",
    "- `2`          -> `j_comp`\n",
    "- `3`          -> `k_comp`\n",
    "\n",
    "You could of course do anything you want in your constructor, by the way. *Most of the time* you'll be doing *something* like this though. It's just extremely intuitive to do that here since we want some way of storing 3 different values into a singular object.\n",
    "\n",
    "So you might have noticed that I've not been printing anything. And for a very good reason. We know that we've created a `Vector()` instantiation correctly since we haven't gotten any errors, but what if we actually want to see what it looks like?"
   ]
  },
  {
   "cell_type": "code",
   "execution_count": 21,
   "metadata": {},
   "outputs": [
    {
     "name": "stdout",
     "output_type": "stream",
     "text": [
      "<__main__.Vector object at 0x000001701AD1EE08>\n"
     ]
    }
   ],
   "source": [
    "v = Vector(1, 2, 3)\n",
    "\n",
    "print(v)"
   ]
  },
  {
   "cell_type": "markdown",
   "metadata": {},
   "source": [
    "Oh, well that's not very helpful..."
   ]
  },
  {
   "cell_type": "markdown",
   "metadata": {},
   "source": [
    "## `__str__()` and `__repr__()`"
   ]
  },
  {
   "cell_type": "markdown",
   "metadata": {},
   "source": [
    "In addition to the pre-defined `__init__()` name, there is `__str__()` and `__repr__()`. In fact, there are *many* pre-defined class-function-names that we won't be covering in CSE231. But, `__str__()` and `__repr__()` are important to know both in general, and if we're going to be able to *see* what our `Vector()` object *looks like*. \n",
    "\n",
    "For the both of these methods, it's expected that you return a `str` that you feel represents your class instantiation. Now you might ask, \"why are there two of them if they both do the same thing\"? That's a very good question, and not one that I will answer. If you're interested in the difference between the two, [here are some nerds arguing about it on StackOverflow.com](https://stackoverflow.com/questions/1436703/difference-between-str-and-repr) (it's a difference of standard practice).\n",
    "\n",
    "For our purposes, we're just going to make them the same. We're not running a tech company here. I hypothesize that Dr. Enbody, too, will also have you make them the same in most cases. \n",
    "\n",
    "So, a string that we feel represents our class.. hmm...\n",
    "\n",
    "Well, remember that angle bracket notation from earlier? Why not use that? It's also the only type of bracket that isn't used by Python, so it would fit nicely into the family. \n",
    "\n",
    "So in order to do this, remember that we need the variables stored by the instantiation from the programmer, otherwise it wouldn't really be representative, would it? If we made the `__str__()` method..\n",
    "\n",
    "```\n",
    "def __str__(self):\n",
    "    return \"<0, 0, 0>\"\n",
    "```\n",
    "\n",
    ".. that doesn't really tell us anything. What we've made is a *constant*. It'll never change depending on what the vector object components actually are. We need to express it in terms of *variables*, and the best variables to do that would probably be the *data members*, right? Since that's where our components get stored in our class! \n",
    "\n",
    "Redefining our `Vector()` class, then..."
   ]
  },
  {
   "cell_type": "code",
   "execution_count": 22,
   "metadata": {},
   "outputs": [],
   "source": [
    "class Vector(object):\n",
    "    \n",
    "    def __init__(self, i_comp, j_comp, k_comp):\n",
    "        self.i = i_comp\n",
    "        self.j = j_comp\n",
    "        self.k = k_comp\n",
    "        \n",
    "    def __str__(self):\n",
    "        return \"<{}, {}, {}>\".format(self.i, self.j, self.k)"
   ]
  },
  {
   "cell_type": "markdown",
   "metadata": {},
   "source": [
    "Now, if you've never programmed classes before, this might seem strange. Remember our long talks on function scope? How come we're able to access the data members in a separate function? \n",
    "\n",
    "That's the great thing about data members! Remember that they operate as defining features of the object. The object *holds these values* and proudly shows them to the world. They can be *accessed __and__ edited __everywhere__* in the class.\n",
    "\n",
    "And, now that we have our `__str__()` method defined, we now have the ability to see our object!"
   ]
  },
  {
   "cell_type": "code",
   "execution_count": 23,
   "metadata": {},
   "outputs": [
    {
     "name": "stdout",
     "output_type": "stream",
     "text": [
      "<1, 2, 3>\n"
     ]
    }
   ],
   "source": [
    "v = Vector(1, 2, 3)\n",
    "\n",
    "print(v)"
   ]
  },
  {
   "cell_type": "markdown",
   "metadata": {},
   "source": [
    "Now would ya look at that! The reason this works, mind you, is because `print()` will attempt to cast everything into a `str` type before outputting to the console. Notice anything similar to the name of our method? So equivalently, we can actually use the `str()` function on our `Vector()` object now, and treat it like any ol' string. "
   ]
  },
  {
   "cell_type": "code",
   "execution_count": 24,
   "metadata": {},
   "outputs": [
    {
     "name": "stdout",
     "output_type": "stream",
     "text": [
      "<1, 2, 3>\n",
      "\n",
      "['<1', ' 2', ' 3>']\n"
     ]
    }
   ],
   "source": [
    "v = Vector(1, 2, 3)\n",
    "\n",
    "v_str = str(v)\n",
    "\n",
    "print(v_str)\n",
    "print()\n",
    "print( v_str.split(\",\") )"
   ]
  },
  {
   "cell_type": "markdown",
   "metadata": {},
   "source": [
    "Pretty neat, huh? We'll add in the `__repr__()` method too, just for fun. We'll simply return whatever `__str__()` is returning since they both want to spit back something that shows what the class would look like represented as a string."
   ]
  },
  {
   "cell_type": "code",
   "execution_count": 25,
   "metadata": {},
   "outputs": [],
   "source": [
    "class Vector(object):\n",
    "    \n",
    "    def __init__(self, i_comp, j_comp, k_comp):\n",
    "        self.i = i_comp\n",
    "        self.j = j_comp\n",
    "        self.k = k_comp\n",
    "        \n",
    "    def __str__(self):\n",
    "        return \"<{}, {}, {}>\".format(self.i, self.j, self.k)\n",
    "    \n",
    "    def __repr__(self):\n",
    "        return self.__str__()"
   ]
  },
  {
   "cell_type": "markdown",
   "metadata": {},
   "source": [
    "Notice the syntax here. I'm using `self` and calling the `__repr__()` method *through it* since `self`, in this case, would be the class instantiation with whatever data members it has initialized by the programmer.\n",
    "\n",
    "We now have an excellent basis for our vector object! I'll pretty commonly define these three methods before doing anything else when I'm creating a class, I would advise you do the same. Developing a class \"blind\", without a `__str__()` or `__repr__()` method can be painful. \n",
    "\n",
    "Even with our excellent basis, our class doesn't... do much. Sure, we can store all of our vector components in one convenient place now, but what can we do with them? \n",
    "\n",
    "That's a question that our *custom-defined* method functions can answer. Since we're creating an object that represents a mathematical vector, let's create operations *of vectors* that could be useful to us."
   ]
  },
  {
   "cell_type": "markdown",
   "metadata": {},
   "source": [
    "## Method Functions"
   ]
  },
  {
   "cell_type": "code",
   "execution_count": null,
   "metadata": {},
   "outputs": [],
   "source": []
  }
 ],
 "metadata": {
  "kernelspec": {
   "display_name": "Python 3",
   "language": "python",
   "name": "python3"
  },
  "language_info": {
   "codemirror_mode": {
    "name": "ipython",
    "version": 3
   },
   "file_extension": ".py",
   "mimetype": "text/x-python",
   "name": "python",
   "nbconvert_exporter": "python",
   "pygments_lexer": "ipython3",
   "version": "3.7.4"
  }
 },
 "nbformat": 4,
 "nbformat_minor": 2
}
