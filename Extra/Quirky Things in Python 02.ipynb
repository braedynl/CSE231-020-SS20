{
 "cells": [
  {
   "cell_type": "markdown",
   "metadata": {},
   "source": [
    "# Quirky Things in Python that Enbody Will Test You On Even Though You Won't Ever Find This Information Useful When Actually Developing - Part 2\n",
    "\n",
    "## CSE231 - Exam 2"
   ]
  },
  {
   "cell_type": "markdown",
   "metadata": {},
   "source": [
    "We are, once again, studying up on some weird stuff you can do with Python that Enbody loves putting on his exams. Be ready, this one is long. This notebook has a lot more essential programming knowledge than the previous one, actually.. I should maybe change the title for next time 🤔. \n",
    "\n",
    "Again, I want to emphasize the importance of looking over the past exams. This is, by no means, a full study guide. This journal is simply a reference to help you understand *some* of the things you might come across on those past exams. This time, make sure you look over the __Exam2X-XXX-Enbody__ forms. I would prioritize the more recent ones.\n",
    "\n",
    "https://web.cse.msu.edu/~cse231/Online/Exams/\n",
    "\n",
    "Hopefully you remember the quirky things we saw on Exam 1, because they still might show up. You can find my Exam 1 notebook here:\n",
    "\n",
    "https://github.com/braedynl/CSE231-020-SS20/blob/master/Extra/Quirky%20Things%20in%20Python%2001.ipynb\n",
    "__________________________________________"
   ]
  },
  {
   "cell_type": "markdown",
   "metadata": {},
   "source": [
    "## List Comprehension"
   ]
  },
  {
   "cell_type": "markdown",
   "metadata": {},
   "source": [
    "So for those of you who have read through [my notebook on lists, tuples and sorting](https://github.com/braedynl/CSE231-020-SS20/blob/master/Extra/Lists%2C%20Tuples%20and%20Sorting.ipynb), you'll find a lot of this stuff familiar. I'm going to copy-paste a bunch of stuff from that notebook into this section but make some changes here and there. I would encourage you to read through this even if you're solid on list comprehension because it's always good for extra reinforcement. I'll also be going over examples straight from the past exams."
   ]
  },
  {
   "cell_type": "markdown",
   "metadata": {},
   "source": [
    "List comprehension is a way of quickly instantiating a list full of elements. It follows a pretty strange order of operations, but you'll come to read through it easily after being exposed to it a lot. List comprehension follows this basic layout:\n",
    "\n",
    "```\n",
    "[ {element expression} for {element} in {loop-structure} {append conditional} ]\n",
    "```\n",
    "\n",
    "We'll go through some examples and build up in complexity. First, let's start out simple, without an \"append conditional\". "
   ]
  },
  {
   "cell_type": "code",
   "execution_count": 1,
   "metadata": {},
   "outputs": [
    {
     "name": "stdout",
     "output_type": "stream",
     "text": [
      "[0, 1, 2, 3, 4]\n"
     ]
    }
   ],
   "source": [
    "my_list = [ i for i in range(5) ]\n",
    "\n",
    "print(my_list)"
   ]
  },
  {
   "cell_type": "markdown",
   "metadata": {},
   "source": [
    "Strange, isn't it? We're so used to using the colon at the end of the for-loop, and having `i` before creating the loop just feels... off. I personally like to think of it like:\n",
    "\n",
    "```\n",
    "[ make `i` an element of this list for every `i` in range(5) ]\n",
    "```\n",
    "\n",
    "Note that we express the element that is to be added to the list before the loop. You will always want to have it expressed in that order.\n",
    "\n",
    "We don't have to just put `i` here, however. This is an *expression* like what we could write in any RHS operation.  "
   ]
  },
  {
   "cell_type": "code",
   "execution_count": 2,
   "metadata": {},
   "outputs": [
    {
     "name": "stdout",
     "output_type": "stream",
     "text": [
      "[0, 1, 4, 9, 16]\n"
     ]
    }
   ],
   "source": [
    "my_list = [ i**2 for i in range(5) ]\n",
    "\n",
    "print(my_list)"
   ]
  },
  {
   "cell_type": "markdown",
   "metadata": {},
   "source": [
    "Now we have:\n",
    "\n",
    "```\n",
    "[ make `i**2` an element of this list for every `i` in range(5) ]\n",
    "```\n",
    "\n",
    "If you're mathematically inclined, it might be helpful to think about it like plugging a number into a function and storing each number we get as output. So in this instance, we're plugging in every *integer* number in the domain $[0, 5)$ into a function, $f(i)=i^2$, and storing each output into our list.\n",
    "\n",
    "Of course, we're not limited to only doing mathematical operations, we can use programming operations as well. Let's say I have a list of numbers stored as strings. Obviously I can't do math with these things, so what's a good way of converting all of the values I have in `my_list` to ints?"
   ]
  },
  {
   "cell_type": "code",
   "execution_count": 3,
   "metadata": {},
   "outputs": [
    {
     "name": "stdout",
     "output_type": "stream",
     "text": [
      "[1, 2, 3, 4, 5]\n"
     ]
    }
   ],
   "source": [
    "my_list = [\"1\", \"2\", \"3\", \"4\", \"5\"]\n",
    "\n",
    "my_list = [ int(str_num) for str_num in my_list ]\n",
    "\n",
    "print(my_list)"
   ]
  },
  {
   "cell_type": "markdown",
   "metadata": {},
   "source": [
    "Ah! This is a really quick and easy way to convert massive amounts of elements to a different type while maintaining order. In the process, we also overwrote `my_list` to be our new and improved one with ints only, something that would have taken an extra line if we were to use the `.append()` methodology.\n",
    "\n",
    "Let's expand upon this. Let's say that our list contains string-numbers again but we somehow managed to get `None` values strewn about the list. Let's say we also don't want to count zeroes in our new list."
   ]
  },
  {
   "cell_type": "code",
   "execution_count": 4,
   "metadata": {},
   "outputs": [
    {
     "name": "stdout",
     "output_type": "stream",
     "text": [
      "[1, 2, 3, 4, 5]\n"
     ]
    }
   ],
   "source": [
    "my_list = [\"0\", \"1\", \"2\", None, None, \"3\", \"4\", None, \"5\", \"0\"]\n",
    "\n",
    "my_list = [ int(i) for i in my_list if i != None and i != \"0\" ]\n",
    "\n",
    "print(my_list)"
   ]
  },
  {
   "cell_type": "markdown",
   "metadata": {},
   "source": [
    "We can accomplish this using conditional statements within the comprehension! It's certainly strange to read, so let's break it into parts:\n",
    "\n",
    "```\n",
    "[ \n",
    "\n",
    "int(i)    # convert to i to int\n",
    "\n",
    "for i in my_list    # iterate through my_list\n",
    "\n",
    "if i != None and i != \"0\"    # only append i under these conditions\n",
    "\n",
    "]\n",
    "```\n",
    "\n",
    "or if you want to think about it like this:\n",
    "\n",
    "```\n",
    "[ convert `i` to an int if `i` isn't `None` and `i` isn't `0`, for each `i` in `my_list` ]\n",
    "```\n",
    "\n",
    "Going back to our fundamental layout from earlier, this is taking advantage of the \"append conditional\". It's the conditional statement you run before appendation to your list. \n",
    "\n",
    "```\n",
    "[ {element expression} for {element} in {loop-structure} {append conditional} ]\n",
    "```\n",
    "\n",
    "Equivalently, the code from above would look like this if you want to tie it back to the `.append()` methodology.."
   ]
  },
  {
   "cell_type": "code",
   "execution_count": 5,
   "metadata": {},
   "outputs": [
    {
     "name": "stdout",
     "output_type": "stream",
     "text": [
      "[1, 2, 3, 4, 5]\n"
     ]
    }
   ],
   "source": [
    "my_list = [\"0\", \"1\", \"2\", None, None, \"3\", \"4\", None, \"5\", \"0\"]\n",
    "\n",
    "empty_list = []\n",
    "\n",
    "for i in my_list:\n",
    "    \n",
    "    if i != None and i != \"0\":    # {append conditional}\n",
    "        empty_list.append( int(i) )    # {element expression}\n",
    "\n",
    "my_list = empty_list\n",
    "\n",
    "print(my_list)"
   ]
  },
  {
   "cell_type": "markdown",
   "metadata": {},
   "source": [
    "### Example Problem\n",
    "\n",
    "So, let's apply our knowledge now to an example from the [SS19 Exam 2 Form 2C](https://web.cse.msu.edu/~cse231/Online/Exams/Exam2c-19S-Enbody.txt).\n",
    "\n",
    "_______________________________________\n",
    "\n",
    "01. What is the output of the following program?\n",
    "```\n",
    "data = [x for x in range(6)]\n",
    "temp = [x for x in range(8) if x in data and x%2!=0]\n",
    "print(temp)\n",
    "```\n",
    "\n",
    "    A) [0, 1, 2, 3, 4, 5, 6, 7]\n",
    "\n",
    "    B) [0, 1, 2, 3, 4, 5, 6]\n",
    "\n",
    "    C) [1, 3, 5]\n",
    "\n",
    "    D) [1, 3, 5, 7]\n",
    "\n",
    "    E) None of the above\n",
    "\n",
    "________________________________________"
   ]
  },
  {
   "cell_type": "markdown",
   "metadata": {},
   "source": [
    "Let's break some things down first. That `data` list is pretty simple, right? That's just instantiating a list from 0 to 5, as we know from how the `range()` function works in a for-loop."
   ]
  },
  {
   "cell_type": "code",
   "execution_count": 6,
   "metadata": {},
   "outputs": [
    {
     "name": "stdout",
     "output_type": "stream",
     "text": [
      "[0, 1, 2, 3, 4, 5]\n"
     ]
    }
   ],
   "source": [
    "data = [x for x in range(6)]\n",
    "\n",
    "print(data)"
   ]
  },
  {
   "cell_type": "markdown",
   "metadata": {},
   "source": [
    "What's tricky is that `temp` list. Forget the `range(8)` for now, let's talk about the conditional that's coming after it. \n",
    "\n",
    "```\n",
    "temp = [x for x in range(8) if x in data and x % 2 != 0]\n",
    "```\n",
    "\n",
    "We see that it's doing two things. It's firstly checking if `x` is within our `data` list (`if x in data`), then we're *also* checking if `x` divided by 2 has a remainder *not equal* to 0 (`and x % 2 != 0`). For reference, our `data` list looks like this:\n",
    "\n",
    "```\n",
    "[0, 1, 2, 3, 4, 5]\n",
    "```\n",
    "\n",
    "If we're iterating from a range, 0 to 7, implied by the `range(8)` of the `temp` list, that means we can immediately rule out any number that isn't in a range 0 to 5, since that's what is contained within our `data` list and `temp` requires that `x in data`. Meaning that 6 and 7 cannot possibly be included, ruling out options A), B) and D) from above. Now we might just go ahead and say C) and call it there, but let's just double check since it's good practice.\n",
    "\n",
    "With our deduction so far, we're left simply with the numbers contained within `data`, 0 to 5. The numbers being added to `temp`, however, are still contigent on the other portion of the conditional statement, where `x % 2 != 0`. I personally like to think of this as saying \"give me only the *odd* numbers\", since being exactly divisible by 2 implies that `x` is an even number. We have a `!=` sign, meaning that we're looking for numbers that *aren't* exactly divisible by two, implying only the odd numbers. Going down the `data` list, then, we would have:\n",
    "\n",
    "```\n",
    "[0,    # 0 % 2 = 0, NOT going to be added to temp\n",
    " 1,    # 1 % 2 != 0, IS going to be added to temp\n",
    " 2,    # 2 % 2 = 0, NOT going to be added to temp\n",
    " 3,    # 3 % 2 != 0, IS going to be added to temp\n",
    " ...\n",
    "]      # Hopefully you can see the pattern here\n",
    "```\n",
    "\n",
    "And so our result would come out to be:\n",
    "\n",
    "```\n",
    "[1, 3, 5]\n",
    "```\n",
    "\n",
    "Making C) the definitive correct choice."
   ]
  },
  {
   "cell_type": "markdown",
   "metadata": {},
   "source": [
    "## Operators w/ Lists & Tuples"
   ]
  },
  {
   "cell_type": "markdown",
   "metadata": {},
   "source": [
    "Something we haven't talked about much is how lists and tuples interact with the operators of Python. You might think that using them on lists and tuples would give you back an error but they do, in fact, have special behaviour when using certain operations.\n",
    "\n",
    "We'll first begin with `+`. Hopefully it comes intuitively that using the plus operator will combine two lists together into one, big, single list. This is also referred to as *extending*. It's equivalent to iterating through some list and appending each element to another, different list."
   ]
  },
  {
   "cell_type": "code",
   "execution_count": 7,
   "metadata": {},
   "outputs": [
    {
     "name": "stdout",
     "output_type": "stream",
     "text": [
      "[3, 5, 2, 4]\n"
     ]
    }
   ],
   "source": [
    "L1 = [3, 5]\n",
    "L2 = [2, 4]\n",
    "\n",
    "print(L1 + L2)"
   ]
  },
  {
   "cell_type": "markdown",
   "metadata": {},
   "source": [
    "What happens if you were to try this with tuples, though? Weirdly enough, using the plus operator with tuples will do the same thing. I say \"weirdly\" because you might think you wouldn't be able to since tuples are immutable, but remember that Python will only get mad at you for affecting the *original variable* that holds the tuple. As long as we're not changing what the original instantation has, Python doesn't care."
   ]
  },
  {
   "cell_type": "code",
   "execution_count": 8,
   "metadata": {},
   "outputs": [
    {
     "name": "stdout",
     "output_type": "stream",
     "text": [
      "(3, 5, 2, 4)\n"
     ]
    }
   ],
   "source": [
    "T1 = (3, 5)\n",
    "T2 = (2, 4)\n",
    "\n",
    "print(T1 + T2)"
   ]
  },
  {
   "cell_type": "markdown",
   "metadata": {},
   "source": [
    "So, now we know we can combine lists and tuples like this. But, what if try we adding values?"
   ]
  },
  {
   "cell_type": "code",
   "execution_count": 9,
   "metadata": {},
   "outputs": [
    {
     "ename": "TypeError",
     "evalue": "can only concatenate list (not \"int\") to list",
     "output_type": "error",
     "traceback": [
      "\u001b[1;31m---------------------------------------------------------------------------\u001b[0m",
      "\u001b[1;31mTypeError\u001b[0m                                 Traceback (most recent call last)",
      "\u001b[1;32m<ipython-input-9-828fa9e59832>\u001b[0m in \u001b[0;36m<module>\u001b[1;34m\u001b[0m\n\u001b[0;32m      1\u001b[0m \u001b[0mL1\u001b[0m \u001b[1;33m=\u001b[0m \u001b[1;33m[\u001b[0m\u001b[1;36m3\u001b[0m\u001b[1;33m,\u001b[0m \u001b[1;36m5\u001b[0m\u001b[1;33m]\u001b[0m\u001b[1;33m\u001b[0m\u001b[1;33m\u001b[0m\u001b[0m\n\u001b[0;32m      2\u001b[0m \u001b[1;33m\u001b[0m\u001b[0m\n\u001b[1;32m----> 3\u001b[1;33m \u001b[0mprint\u001b[0m\u001b[1;33m(\u001b[0m \u001b[0mL1\u001b[0m \u001b[1;33m+\u001b[0m \u001b[1;36m7\u001b[0m \u001b[1;33m)\u001b[0m\u001b[1;33m\u001b[0m\u001b[1;33m\u001b[0m\u001b[0m\n\u001b[0m",
      "\u001b[1;31mTypeError\u001b[0m: can only concatenate list (not \"int\") to list"
     ]
    }
   ],
   "source": [
    "L1 = [3, 5]\n",
    "\n",
    "print( L1 + 7 )"
   ]
  },
  {
   "cell_type": "markdown",
   "metadata": {},
   "source": [
    "Well, it might come as dissappointing that trying to add values to a list with the `+` operator doesn't result in anything special. It *does not* act like an `.append()` as you might've hypothesized beforehand."
   ]
  },
  {
   "cell_type": "markdown",
   "metadata": {},
   "source": [
    "Hopefully the plus operator interaction comes pretty naturally. The only other working operator that works on lists and tuples is the `*` operator, which should also come to you pretty quickly. The `-`, `/`, `//`, and `%` operators will all result in errors."
   ]
  },
  {
   "cell_type": "code",
   "execution_count": 10,
   "metadata": {},
   "outputs": [
    {
     "name": "stdout",
     "output_type": "stream",
     "text": [
      "[3, 5, 3, 5, 3, 5]\n"
     ]
    }
   ],
   "source": [
    "L1 = [3, 5]\n",
    "\n",
    "print( L1 * 3 )"
   ]
  },
  {
   "cell_type": "markdown",
   "metadata": {},
   "source": [
    "When we multiply a list by some number, we just get the same list however many times you're multiplying by! Note that it stays all in one list, so you don't have any sort of list-of-lists situation or anything of that sort."
   ]
  },
  {
   "cell_type": "code",
   "execution_count": 11,
   "metadata": {},
   "outputs": [
    {
     "name": "stdout",
     "output_type": "stream",
     "text": [
      "(3, 5, 3, 5, 3, 5)\n"
     ]
    }
   ],
   "source": [
    "T1 = (3, 5)\n",
    "\n",
    "print( T1 * 3 )"
   ]
  },
  {
   "cell_type": "markdown",
   "metadata": {},
   "source": [
    "And of course, same thing goes for the tuples."
   ]
  },
  {
   "cell_type": "code",
   "execution_count": 12,
   "metadata": {},
   "outputs": [
    {
     "ename": "TypeError",
     "evalue": "can't multiply sequence by non-int of type 'list'",
     "output_type": "error",
     "traceback": [
      "\u001b[1;31m---------------------------------------------------------------------------\u001b[0m",
      "\u001b[1;31mTypeError\u001b[0m                                 Traceback (most recent call last)",
      "\u001b[1;32m<ipython-input-12-cf7bef5bbe8a>\u001b[0m in \u001b[0;36m<module>\u001b[1;34m\u001b[0m\n\u001b[0;32m      2\u001b[0m \u001b[0mL2\u001b[0m \u001b[1;33m=\u001b[0m \u001b[1;33m[\u001b[0m\u001b[1;36m2\u001b[0m\u001b[1;33m,\u001b[0m \u001b[1;36m4\u001b[0m\u001b[1;33m]\u001b[0m\u001b[1;33m\u001b[0m\u001b[1;33m\u001b[0m\u001b[0m\n\u001b[0;32m      3\u001b[0m \u001b[1;33m\u001b[0m\u001b[0m\n\u001b[1;32m----> 4\u001b[1;33m \u001b[0mprint\u001b[0m\u001b[1;33m(\u001b[0m \u001b[0mL1\u001b[0m \u001b[1;33m*\u001b[0m \u001b[0mL2\u001b[0m \u001b[1;33m)\u001b[0m\u001b[1;33m\u001b[0m\u001b[1;33m\u001b[0m\u001b[0m\n\u001b[0m",
      "\u001b[1;31mTypeError\u001b[0m: can't multiply sequence by non-int of type 'list'"
     ]
    }
   ],
   "source": [
    "L1 = [3, 5]\n",
    "L2 = [2, 4]\n",
    "\n",
    "print( L1 * L2 )"
   ]
  },
  {
   "cell_type": "markdown",
   "metadata": {},
   "source": [
    "And, of course, trying to go the other way around by multiplying a list by another list, does not work at all. So as a general rule of thumb:\n",
    "\n",
    "- You can use the `+` operator between two lists or two tuples (the containers will be *concatenated*)\n",
    "- You can use the `*` operator between a list and an int or a tuple and an int (the containers will *concatenate themselves* however many times specified)"
   ]
  },
  {
   "cell_type": "markdown",
   "metadata": {},
   "source": [
    "## List-of-Lists Shenanigans"
   ]
  },
  {
   "cell_type": "markdown",
   "metadata": {},
   "source": [
    "Dr. Enbody *loves* combining lists with other lists to make these things extra confusing. This should all be review, but let's break down a couple of these since they're pretty confusing. This is problem 03 on the [SS19 Exam 2 Form 2C](https://web.cse.msu.edu/~cse231/Online/Exams/Exam2c-19S-Enbody.txt).\n",
    "\n",
    "________________________________________\n",
    "\n",
    "3. What is the output of the following program?\n",
    "```\n",
    "L1 = list()\n",
    "L1.append([1, [4, 5], 6])\n",
    "L1.extend([2, 7, 9])\n",
    "print(L1[0][1][1] + L1[2])\n",
    "```\n",
    "\n",
    "    A) 12\n",
    "\n",
    "    B) 11\n",
    "\n",
    "    C) 37\n",
    "\n",
    "    D) 38\n",
    "\n",
    "    E) None of the above\n",
    "\n",
    "________________________________________"
   ]
  },
  {
   "cell_type": "markdown",
   "metadata": {},
   "source": [
    "It's important to note here that the `.append()` method will append any value *in it's current state*. So when we append a `list` object to *another* `list` object, the result you get is a `list` inside a `list`. It does *not __combine__* the lists together like the `+` operator does, or like the `.extend()` method which we haven't talked much about, but it's effectively the same as using the `+` operator."
   ]
  },
  {
   "cell_type": "code",
   "execution_count": 13,
   "metadata": {},
   "outputs": [
    {
     "name": "stdout",
     "output_type": "stream",
     "text": [
      "[[]]\n"
     ]
    }
   ],
   "source": [
    "L = list()\n",
    "L.append( list() )    # Using .append()\n",
    "\n",
    "print(L)    # Notice the list-of-lists!"
   ]
  },
  {
   "cell_type": "code",
   "execution_count": 14,
   "metadata": {},
   "outputs": [
    {
     "name": "stdout",
     "output_type": "stream",
     "text": [
      "[]\n"
     ]
    }
   ],
   "source": [
    "L = list()\n",
    "L += list()    # Using +\n",
    "\n",
    "print(L)"
   ]
  },
  {
   "cell_type": "code",
   "execution_count": 15,
   "metadata": {},
   "outputs": [
    {
     "name": "stdout",
     "output_type": "stream",
     "text": [
      "[]\n"
     ]
    }
   ],
   "source": [
    "L = list()\n",
    "L.extend( list() )    # Using .extend(), equivalent to +\n",
    "\n",
    "print(L)"
   ]
  },
  {
   "cell_type": "markdown",
   "metadata": {},
   "source": [
    "Above is a barebones example of the difference between *appending a list to a list* vs. *adding/extending a list to a list*. Also remember that using `[]` as an empty list is the same as using `list()`. A similar thing is happening in the problem we're covering, and is probably the most confusing part of the entire thing. Let's break it down here.."
   ]
  },
  {
   "cell_type": "code",
   "execution_count": 16,
   "metadata": {},
   "outputs": [
    {
     "name": "stdout",
     "output_type": "stream",
     "text": [
      "[[1, [4, 5], 6]]\n"
     ]
    }
   ],
   "source": [
    "L1 = list()\n",
    "L1.append( [1, [4, 5], 6] )\n",
    "\n",
    "print(L1)"
   ]
  },
  {
   "cell_type": "markdown",
   "metadata": {},
   "source": [
    "So as you can see, `L1` now contains *one __list__* (`[1, [4, 5], 6]`), but that one list contains *another list* (`[4, 5]`). So really, what we have is a *list of a list, containing another list*. Digest that for a second before moving on here. Here's a visualization of what we have so far:\n",
    "\n",
    "```\n",
    "L1 = [\n",
    "    [1, [4, 5], 6 ],    # index 0 of L1\n",
    "]\n",
    "```\n",
    "\n",
    "What we have next is comparably simpler. The `.extend()` method isn't one we've talked about much, but it's super simple because it behaves just like the `+` operator! Make sure you visit the above section on list operations because we just talked about this!"
   ]
  },
  {
   "cell_type": "code",
   "execution_count": 17,
   "metadata": {},
   "outputs": [
    {
     "name": "stdout",
     "output_type": "stream",
     "text": [
      "[[1, [4, 5], 6], 2, 7, 9]\n"
     ]
    }
   ],
   "source": [
    "L1 = list()\n",
    "L1.append( [1, [4, 5], 6] )\n",
    "L1.extend([2, 7, 9])\n",
    "\n",
    "print(L1)"
   ]
  },
  {
   "cell_type": "markdown",
   "metadata": {},
   "source": [
    "And so, since we're *extending* onto `L1`, *each element* from the list extension, `[2, 7, 9]`, gets appended to `L1`, *but __not__* the list itself. As a result, we now have, in `L1`, a `list` at index 0, `2` at index 1, `7` at index 2, and `9` at index 3. Below is a continuation of our visualization from earlier:\n",
    "\n",
    "```\n",
    "L1 = [\n",
    "    [1, [4, 5], 6],    # index 0\n",
    "    2,                 # index 1\n",
    "    7,                 # index 2\n",
    "    9                  # index 3\n",
    "]\n",
    "```\n",
    "\n",
    "So going back to that last line of the code in the problem, then:\n",
    "```\n",
    "print(L1[0][1][1] + L1[2])\n",
    "```\n",
    "\n",
    "That first portion, `L1[0][1][1]`, is accessing the `list` we have at index 0, `[1, [4, 5], 6]`. It's then going into it and accessing the `list` *within*, which is `[4, 5]`, and lastly accessing index 1 of *that list*, which is `5`. To visualize this, let's break it down by index access, *the following is a pseudocode representation*:\n",
    "```\n",
    "L1 = [[1, [4, 5], 6], 2, 7, 9]\n",
    "\n",
    "L1[0] -> [1, [4, 5], 6]\n",
    "\n",
    "L1[0][1] -> [4, 5]\n",
    "\n",
    "L1[0][1][1] -> 5\n",
    "```\n",
    "\n",
    "And finally, the second portion of that print statement, `L1[2]`, simply accesses index 2 of `L1`, which is `7`, as we saw from before. So.. what's `5+7`?"
   ]
  },
  {
   "cell_type": "code",
   "execution_count": 18,
   "metadata": {},
   "outputs": [
    {
     "name": "stdout",
     "output_type": "stream",
     "text": [
      "12\n"
     ]
    }
   ],
   "source": [
    "L1 = list()\n",
    "L1.append( [1, [4, 5], 6] )\n",
    "L1.extend([2, 7, 9])\n",
    "print(L1[0][1][1] + L1[2])"
   ]
  },
  {
   "cell_type": "markdown",
   "metadata": {},
   "source": [
    "Ta-da!!\n",
    "\n",
    "Alright, let's go over some more examples. Here's number 4 on the same exam from before:\n",
    "\n",
    "_________________________________________\n",
    "\n",
    "4. Given `L1 = ['x', 'y']` and `L2 = ['a', L1, 'b']`, what is printed by `print(L2)`?\n",
    "\n",
    "    A) ['a', ['x', 'y'], 'b']\n",
    "\n",
    "    B) ['a', 'L1', 'b']\n",
    "\n",
    "    C) ['a', 'x', 'y', 'b']\n",
    "\n",
    "    D) ['a', L1, 'b']\n",
    "\n",
    "    E) None of the above\n",
    "\n",
    "___________________________________________\n",
    "\n",
    "This question tries to get us confused by taking all of the concepts we've covered so far and presenting them all as options. Let's break down each of these options, starting with B).\n",
    "\n",
    "B) `['a', 'L1', 'b']`\n",
    "\n",
    "So there's clearly something wrong with this one. `'L1'` here, as you might have noticed, is a... string? That doesn't really make sense. In the beginning, we clearly defined `L2` as `['a', L1, 'b']`, so this one can't possibly be correct since `L1` here is *not* a string, it's the *variable* `L1`.\n",
    "\n",
    "C) `['a', 'x', 'y', 'b']`\n",
    "\n",
    "Now this is where it gets interesting. Since we have `L2 = ['a', L1, 'b']`, is this equivalent to *appending* `L1` to `L2`? Or is this *extending* `L1` to `L2`? Remember the difference we talked about. If we try to run this code.."
   ]
  },
  {
   "cell_type": "code",
   "execution_count": 19,
   "metadata": {},
   "outputs": [
    {
     "name": "stdout",
     "output_type": "stream",
     "text": [
      "['a', ['x', 'y'], 'b']\n"
     ]
    }
   ],
   "source": [
    "L1 = ['x', 'y']\n",
    "L2 = ['a', L1, 'b']\n",
    "\n",
    "print(L2)"
   ]
  },
  {
   "cell_type": "markdown",
   "metadata": {},
   "source": [
    "You'll see that taking the variable name and putting it *in the declaration of the variable* is equivalent to *appending*. If we were to *extend* `L1` onto `L2`.."
   ]
  },
  {
   "cell_type": "code",
   "execution_count": 20,
   "metadata": {},
   "outputs": [
    {
     "name": "stdout",
     "output_type": "stream",
     "text": [
      "['a', 'b', 'x', 'y']\n"
     ]
    }
   ],
   "source": [
    "L1 = ['x', 'y']\n",
    "L2 = ['a', 'b']\n",
    "\n",
    "L2.extend(L1)\n",
    "\n",
    "print(L2)"
   ]
  },
  {
   "cell_type": "markdown",
   "metadata": {},
   "source": [
    "Only then we would get something similar. You can see that even attempting to extend `L1` into that specific index, index 1, would be difficult to do. You might think that `.insert()` would accomplish this effect, but like `.append()`..."
   ]
  },
  {
   "cell_type": "code",
   "execution_count": 21,
   "metadata": {},
   "outputs": [
    {
     "name": "stdout",
     "output_type": "stream",
     "text": [
      "['a', ['x', 'y'], 'b']\n"
     ]
    }
   ],
   "source": [
    "L1 = ['x', 'y']\n",
    "L2 = ['a', 'b']\n",
    "\n",
    "L2.insert(1, L1)    # Parameters: list.insert(index, value)\n",
    "\n",
    "print(L2)"
   ]
  },
  {
   "cell_type": "markdown",
   "metadata": {},
   "source": [
    "The value of `L1` gets put into `L2` *as is*. It takes the entire list, *__not__ the elements within the list*."
   ]
  },
  {
   "cell_type": "markdown",
   "metadata": {},
   "source": [
    "Lastly, we have option D), which is..\n",
    "\n",
    "D) `['a', L1, 'b']`\n",
    "\n",
    "Now, this isn't something we often talk about because it really just comes as intuitive to us. As you should know just from experience in Python, the variables themselves *never* get printed -- that's effectively what's going on here. It's always *the value that's being held __by__ the variable that gets printed*. So this could never happen in a million years, although I could see why you might pick it since it's really out there in terms of conceptualization.\n",
    "\n",
    "As you might expect, and since we already saw the answer during our talk about option C), the correct answer is option A). \n",
    "\n",
    "A) `['a', ['x', 'y'], 'b']`\n",
    "\n",
    "Again, declaring a variable inside another in this instance, `L1 = ['x', 'y']`, `L2 = ['a', L1, 'b']`, this is equivalent to \"appending\" `L1` to `L2` in that index. You're taking the *entire value* of `L1`, *__not__* the values *within* `L1`, and putting it inside `L2`. "
   ]
  },
  {
   "cell_type": "markdown",
   "metadata": {},
   "source": [
    "## The Wonderful World of Mutability"
   ]
  },
  {
   "cell_type": "markdown",
   "metadata": {},
   "source": [
    "Oh boy, everyone's favorite topic. Mutability has one fundamental, core idea: variables that hold mutable objects pass by reference. As a reminder, these are the mutable and immutable basic types in Python:\n",
    "\n",
    "Mutable: `list`, `dict`, `set`\n",
    "\n",
    "Immutable: `int`, `float`, `str`, `tuple`\n",
    "\n",
    "Let's go over an example.."
   ]
  },
  {
   "cell_type": "code",
   "execution_count": 22,
   "metadata": {},
   "outputs": [
    {
     "name": "stdout",
     "output_type": "stream",
     "text": [
      "5\n"
     ]
    }
   ],
   "source": [
    "my_int = 5    # ints are immutable\n",
    "\n",
    "def f(x):    # We're going to pass a value into f() here\n",
    "    x += 5    # and we're going to increment it by 5\n",
    "    \n",
    "f(my_int)\n",
    "\n",
    "print(my_int)"
   ]
  },
  {
   "cell_type": "markdown",
   "metadata": {},
   "source": [
    "Nothing happens to our int. We passed a *copy* of our value to the function because `int` types are *immutable*. We told the function \"hey, your `x` parameter here, that's going to be `5`\". The function said \"alright\", and incremented `x` by 5, but never changed `my_int`. \n",
    "\n",
    "Mutable types, however, are a different story. Let's create a similar example dedicated to lists.."
   ]
  },
  {
   "cell_type": "code",
   "execution_count": 23,
   "metadata": {},
   "outputs": [
    {
     "name": "stdout",
     "output_type": "stream",
     "text": [
      "[1, 2, 3, 5]\n"
     ]
    }
   ],
   "source": [
    "my_list = [1, 2, 3]\n",
    "\n",
    "def f(x):\n",
    "    x.append(5)    # appends 5 to a list, assuming x is one\n",
    "    \n",
    "f(my_list)\n",
    "\n",
    "print(my_list)"
   ]
  },
  {
   "cell_type": "markdown",
   "metadata": {},
   "source": [
    "When we have a *mutable type*, such as a `list`, we pass our value to the parameter *by reference*, meaning we're telling the `x` parameter the address in memory of our list to fundamentally change what that list is *everywhere* in our program. So, when we pass `my_list` to `f()`, we're saying \"yo, `f()`, you're going to take `my_list` and give it a new name temporarily, `x`\". That's really what it comes down to. The parameter changes the name of the list, it never takes a *copy* of the list. \n",
    "\n",
    "So then, it's really important to know *when* something is being passed by *reference*, and when something is being passed by *value*. Let's take [Figure 3 of FS19 Exam 2 Form 2C](https://web.cse.msu.edu/~cse231/Online/Exams/Exam2c-19F-Enbody.txt) as an example. "
   ]
  },
  {
   "cell_type": "code",
   "execution_count": 24,
   "metadata": {},
   "outputs": [
    {
     "name": "stdout",
     "output_type": "stream",
     "text": [
      "True\n",
      "False\n"
     ]
    }
   ],
   "source": [
    "L1 = [1, 2, 3]\n",
    "L2 = [1, L1]\n",
    "L3 = L2\n",
    "L4 = L2[:]\n",
    "\n",
    "print(L2 is L3)\n",
    "print(L2 is L4)"
   ]
  },
  {
   "cell_type": "markdown",
   "metadata": {},
   "source": [
    "The `is` keyword tests whether two variables have the same location *in memory*. It's *not* testing whether or not they're the same in terms of *value*. A multitude of things are happening in this program, so let's break it down."
   ]
  },
  {
   "cell_type": "code",
   "execution_count": 25,
   "metadata": {},
   "outputs": [
    {
     "name": "stdout",
     "output_type": "stream",
     "text": [
      "[1, [1, 2, 3]]\n"
     ]
    }
   ],
   "source": [
    "L1 = [1, 2, 3]\n",
    "L2 = [1, L1]\n",
    "\n",
    "print(L2)"
   ]
  },
  {
   "cell_type": "markdown",
   "metadata": {},
   "source": [
    "Here, we're creating a list, `L2`, that contains `L1`. But is this `L1` a copy or a reference? `L1` in this line, `L2 = [1, L1]`, is a *reference* and always will be when you write a declaration like this. We can actually test this ourselves.."
   ]
  },
  {
   "cell_type": "code",
   "execution_count": 26,
   "metadata": {},
   "outputs": [
    {
     "name": "stdout",
     "output_type": "stream",
     "text": [
      "2331186318408\n",
      "2331186318408\n"
     ]
    }
   ],
   "source": [
    "print( id(L1) )\n",
    "print( id(L2[1]) )    # The address of the list in index 1 of L2"
   ]
  },
  {
   "cell_type": "markdown",
   "metadata": {},
   "source": [
    "The `id()` function here tells us the location in memory of an object, and so as we can see, the original `L1` list and the `L1` stated in this line: `L2 = [1, L1]`, refer to the *same memory location*. If you were to take a *copy* of `L1` in the `L2` declaration, then these *would __not__* refer to the same memory location..."
   ]
  },
  {
   "cell_type": "code",
   "execution_count": 27,
   "metadata": {},
   "outputs": [
    {
     "name": "stdout",
     "output_type": "stream",
     "text": [
      "[1, [1, 2, 3]]\n",
      "2331186319048\n",
      "2331187635592\n"
     ]
    }
   ],
   "source": [
    "L1 = [1, 2, 3]\n",
    "L2 = [1, L1[:]]    # Splice copy\n",
    "\n",
    "print(L2)\n",
    "\n",
    "print( id(L1) )\n",
    "print( id(L2[1]) )"
   ]
  },
  {
   "cell_type": "markdown",
   "metadata": {},
   "source": [
    "Same value, different memory location.\n",
    "\n",
    "Alright so let's go back to the problem, then. So now we know that `L2` has a *reference* to `L1`, what happens when we assign `L3 = L2`?"
   ]
  },
  {
   "cell_type": "code",
   "execution_count": 28,
   "metadata": {},
   "outputs": [
    {
     "name": "stdout",
     "output_type": "stream",
     "text": [
      "[1, [1, 2, 3]]\n",
      "Address of L3: 2331186327752\n",
      "Address of L2: 2331186327752\n"
     ]
    }
   ],
   "source": [
    "L1 = [1, 2, 3]\n",
    "L2 = [1, L1]\n",
    "L3 = L2\n",
    "\n",
    "print(L3)\n",
    "\n",
    "print( \"Address of L3:\", id(L3) )\n",
    "print( \"Address of L2:\", id(L2) )"
   ]
  },
  {
   "cell_type": "markdown",
   "metadata": {},
   "source": [
    "When it comes to mutable objects, assignment *also* acts as a pass by *reference*. Making `L2` and `L3` equivalent not just by value, but also by *memory location*. Another side effect of this, as we've talked about before, is that if you were to change anything about `L2`, `L3`, or even `L1` for that matter, *__all__* of the lists would be changed accordingly since they all point to the same memory location that holds this list: `[1, [1, 2, 3]]`."
   ]
  },
  {
   "cell_type": "code",
   "execution_count": 29,
   "metadata": {},
   "outputs": [
    {
     "name": "stdout",
     "output_type": "stream",
     "text": [
      "[1, [1, 2, 3]]\n"
     ]
    }
   ],
   "source": [
    "L1 = [1, 2, 3]\n",
    "L2 = [1, L1]\n",
    "L3 = L2\n",
    "L4 = L2[:]\n",
    "\n",
    "print(L4)"
   ]
  },
  {
   "cell_type": "markdown",
   "metadata": {},
   "source": [
    "`L4` then, as you'll notice, is taking a splice copy of `L2`. Meaning that any references on the surface of `L2` are stripped away! `L4` is strictly looking at the value, `[1, [1, 2, 3]]`, instead of the *reference to the value*, `[1, L1]`. So as you might expect..."
   ]
  },
  {
   "cell_type": "code",
   "execution_count": 30,
   "metadata": {},
   "outputs": [
    {
     "name": "stdout",
     "output_type": "stream",
     "text": [
      "Address of L4: 2331186318408\n",
      "Address of L2: 2331186875272\n"
     ]
    }
   ],
   "source": [
    "print(\"Address of L4:\", id(L4))\n",
    "print(\"Address of L2:\", id(L2))"
   ]
  },
  {
   "cell_type": "markdown",
   "metadata": {},
   "source": [
    "...the memory location of both lists are *not* the same. Thus, making these two print statements.."
   ]
  },
  {
   "cell_type": "code",
   "execution_count": 31,
   "metadata": {},
   "outputs": [
    {
     "name": "stdout",
     "output_type": "stream",
     "text": [
      "True\n",
      "False\n"
     ]
    }
   ],
   "source": [
    "print(L2 is L3)\n",
    "print(L2 is L4)"
   ]
  },
  {
   "cell_type": "markdown",
   "metadata": {},
   "source": [
    "..print `True` and `False` accordingly."
   ]
  },
  {
   "cell_type": "markdown",
   "metadata": {},
   "source": [
    "Let's generalize this, then, shall we? Whenever you have a mutable object like a `list`, `dict` or `set`, stored in some variable, and you pass it along via any of these methods:\n",
    "\n",
    "- Function-Parameter call\n",
    "- Declaration\n",
    "- Assignment\n",
    "\n",
    "You are, by default, passing the variable's mutable object *__by reference__* to another variable, giving it an *alternate name*. Meaning that changes to the *alternate name(s)* will affect the *original* mutable object and *any other* alternate names you have for it.\n",
    "\n",
    "Alright, to finally reinforce this idea once again, we'll do an example. Numbers 13 and 14 on [FS19 Exam 2 Form 2C](https://web.cse.msu.edu/~cse231/Online/Exams/Exam2c-19F-Enbody.txt).\n",
    "\n",
    "____________________________________\n",
    "```\n",
    "############\n",
    "# Figure 2 #\n",
    "############\n",
    "\n",
    "   def f2(L1):\n",
    "       L1.append(3)\n",
    "\n",
    "   L = [4,5,6]\n",
    "   print( f2(L) )   # Line 1\n",
    "   print( L )       # Line 2\n",
    "```\n",
    "\n",
    "13. In Figure 2, what is printed by Line 1?\n",
    "\n",
    "    A) 3\n",
    "\n",
    "    B) [4, 5, 6]\n",
    "\n",
    "    C) [4, 5, 6, 3]\n",
    "\n",
    "    D) None\n",
    "\n",
    "    E) None of the above\n",
    "\n",
    "\n",
    "14. In Figure 2, what is printed by Line 2?\n",
    "\n",
    "    A) 3\n",
    "\n",
    "    B) [4, 5, 6]\n",
    "\n",
    "    C) [4, 5, 6, 3]\n",
    "\n",
    "    D) None\n",
    "\n",
    "    E) None of the above\n",
    "    \n",
    "_______________________________________"
   ]
  },
  {
   "cell_type": "markdown",
   "metadata": {},
   "source": [
    "We have an `L` variable here, holding a mutable object, a `list`, with `[4, 5, 6]`. In \"Line 1\" we're going to pass `L` to our function `f2()`, who is then going to append the value `3` to whatever `list` object is passed into the function. What did we discuss just now?\n",
    "\n",
    "The function is going to give `L` an alternate, temporary name, `L1`, and it's going to append `3` not just to `L1`, but also to the original `L` variable since we're *passing by reference* to the function. Our list for `L` now looks like:\n",
    "\n",
    "```\n",
    "L = [4, 5, 6, 3]\n",
    "```\n",
    "\n",
    "\"Line 1\" here is tricky. Note that we're calling the function with `L`, but this would print the *return* of the function, correct? Since there's no return from this function, Python will default to `None`, making D) the correct option for question 13.\n",
    "\n",
    "\"Line 2\" is where we really see our stuff. We changed `L` everywhere in the program with that function call from Line 1, so now `L = [4, 5, 6, 3]`. Making C) the correct option for question 14."
   ]
  },
  {
   "cell_type": "markdown",
   "metadata": {},
   "source": [
    "## Dictionary Sorting"
   ]
  },
  {
   "cell_type": "markdown",
   "metadata": {},
   "source": [
    "Another thing that Dr. Enbody loves on his exams is dictionary sorting. The most confusing data structure to sort, *but* hopefully after reading this you'll come to discover that it's pretty much all things we've learned about already when we were trying to sort lists of lists and lists of tuples.\n",
    "\n",
    "Real quick, let's also go over the dictionary methods. There are three essential ones.."
   ]
  },
  {
   "cell_type": "code",
   "execution_count": 32,
   "metadata": {},
   "outputs": [
    {
     "name": "stdout",
     "output_type": "stream",
     "text": [
      "dict_keys(['a', 'b', 'c', 'd'])\n",
      "dict_values([1, 2, 3, 4])\n",
      "dict_items([('a', 1), ('b', 2), ('c', 3), ('d', 4)])\n"
     ]
    }
   ],
   "source": [
    "my_dict = {\n",
    "    \"a\": 1,\n",
    "    \"b\": 2,\n",
    "    \"c\": 3,\n",
    "    \"d\": 4,\n",
    "}\n",
    "\n",
    "print( my_dict.keys() )    # Gives you a list of all the keys\n",
    "print( my_dict.values() )   # Gives you a list of all the values\n",
    "print( my_dict.items() )    # Gives you a list-of-tuples of both the keys and values"
   ]
  },
  {
   "cell_type": "markdown",
   "metadata": {},
   "source": [
    "Python creates these `dict_keys` and `dict_values` objects and what-not but they're secretly just lists, it doesn't mean anything really. \n",
    "\n",
    "If we wanted to sort a dictionary, how would we go about that? Well, there are two things we might want to sort by, right? There are the keys and the values. Both of them might have information we want to sort by, so let's find out how to sort by both.\n",
    "\n",
    "Likely the first dilemma we'd run into is that the dictionary object in Python has no `.sort()` method, and the `sorted()` function takes a `list`. But remember those method functions?"
   ]
  },
  {
   "cell_type": "code",
   "execution_count": 33,
   "metadata": {},
   "outputs": [
    {
     "name": "stdout",
     "output_type": "stream",
     "text": [
      "[('Chicago', 2705994), ('Detroit', 672662), ('Grand Rapids', 200217), ('Houston', 2325502), ('Los Angeles', 3990456), ('New York', 8398748), ('Pheonix', 1660272)] \n",
      "\n",
      "{'Chicago': 2705994, 'Detroit': 672662, 'Grand Rapids': 200217, 'Houston': 2325502, 'Los Angeles': 3990456, 'New York': 8398748, 'Pheonix': 1660272}\n"
     ]
    }
   ],
   "source": [
    "# I brought in some population data to make it a bit more interesting\n",
    "\n",
    "populations = {\n",
    "    \"Houston\": 2325502,\n",
    "    \"New York\": 8398748,\n",
    "    \"Chicago\": 2705994,\n",
    "    \"Los Angeles\": 3990456,\n",
    "    \"Pheonix\": 1660272,\n",
    "    \"Grand Rapids\": 200217,\n",
    "    \"Detroit\": 672662\n",
    "}\n",
    "\n",
    "'''\n",
    "We can use .items() to make our dictionary into a list of tuples,\n",
    "and sort that instead!\n",
    "'''\n",
    "\n",
    "sorted_dict = sorted(populations.items())\n",
    "\n",
    "print(sorted_dict, \"\\n\")\n",
    "\n",
    "'''\n",
    "If we wanted to turn this back into a dictionary, the dict()\n",
    "constructor allows creation from a list of tuples\n",
    "'''\n",
    "\n",
    "print(dict(sorted_dict))"
   ]
  },
  {
   "cell_type": "markdown",
   "metadata": {},
   "source": [
    "We, importantly, want to use `.items()` here since `sorted()` will try to convert our dictionary into a list.. but not in the way we want. Remember how when we try to iterate through a dictionary by default, we would get the keys?"
   ]
  },
  {
   "cell_type": "code",
   "execution_count": 34,
   "metadata": {},
   "outputs": [
    {
     "name": "stdout",
     "output_type": "stream",
     "text": [
      "Houston\n",
      "New York\n",
      "Chicago\n",
      "Los Angeles\n",
      "Pheonix\n",
      "Grand Rapids\n",
      "Detroit\n"
     ]
    }
   ],
   "source": [
    "for key in populations:\n",
    "    print(key)"
   ]
  },
  {
   "cell_type": "markdown",
   "metadata": {},
   "source": [
    "...`sorted()` does a similar thing. Python will, by default, think you're trying to sort the dictionary, but *only* the keys. The result you get is this:"
   ]
  },
  {
   "cell_type": "code",
   "execution_count": 35,
   "metadata": {},
   "outputs": [
    {
     "name": "stdout",
     "output_type": "stream",
     "text": [
      "['Chicago', 'Detroit', 'Grand Rapids', 'Houston', 'Los Angeles', 'New York', 'Pheonix']\n"
     ]
    }
   ],
   "source": [
    "sorted_dict = sorted(populations)\n",
    "\n",
    "print(sorted_dict)"
   ]
  },
  {
   "cell_type": "markdown",
   "metadata": {},
   "source": [
    "Obviously not what we want. This would be equivalent to using the `.keys()` method on it first. Now, if we wanted to sort the dictionary by *value* instead, then we could follow a pretty similar methodology."
   ]
  },
  {
   "cell_type": "code",
   "execution_count": 36,
   "metadata": {},
   "outputs": [
    {
     "name": "stdout",
     "output_type": "stream",
     "text": [
      "dict_items([('Houston', 2325502), ('New York', 8398748), ('Chicago', 2705994), ('Los Angeles', 3990456), ('Pheonix', 1660272), ('Grand Rapids', 200217), ('Detroit', 672662)])\n"
     ]
    }
   ],
   "source": [
    "print( populations.items() )    # This gets us the key-value pairs in a list-of-tuples"
   ]
  },
  {
   "cell_type": "markdown",
   "metadata": {},
   "source": [
    "We would need to sort by the 1-index object of each tuple inside the list, right? So that would warrant the use of `itemgetter`. You could also use a `lambda` function."
   ]
  },
  {
   "cell_type": "code",
   "execution_count": 39,
   "metadata": {},
   "outputs": [
    {
     "name": "stdout",
     "output_type": "stream",
     "text": [
      "[('Grand Rapids', 200217), ('Detroit', 672662), ('Pheonix', 1660272), ('Houston', 2325502), ('Chicago', 2705994), ('Los Angeles', 3990456), ('New York', 8398748)]\n"
     ]
    }
   ],
   "source": [
    "from operator import itemgetter\n",
    "\n",
    "print( sorted(populations.items(), key=itemgetter(1)) )\n",
    "\n",
    "# equivalent as a lambda function:\n",
    "# sorted( populations.items(), key=lambda tup: tup[1] )\n",
    "\n",
    "#You could then convert this back into a dictionary like before..\n",
    "#sorted_dict = dict( sorted(populations.items(), key=itemgetter(1)) )"
   ]
  },
  {
   "cell_type": "markdown",
   "metadata": {},
   "source": [
    "Now we can sort our dictionary by value! So, like I said at the beginning, all sorting dictionaries is is converting it into a list of some sort (using one of the method functions), and then sorting the list. Stuff that you should all be familiar with at this point."
   ]
  },
  {
   "cell_type": "markdown",
   "metadata": {},
   "source": [
    "## Stuff With Sets"
   ]
  },
  {
   "cell_type": "markdown",
   "metadata": {},
   "source": [
    "Alrighty, last up, we're going to talk a little bit about sets. Hopefully sets come as pretty intuitive. All they are, in my mind, are unordered lists that get rid of duplicates.\n",
    "\n",
    "The \"getting rid of duplicates\" is probably the trickiest thing about them, but even that's not too hard to get used to. Let's do a quick example here.."
   ]
  },
  {
   "cell_type": "code",
   "execution_count": 40,
   "metadata": {},
   "outputs": [
    {
     "name": "stdout",
     "output_type": "stream",
     "text": [
      "{8, 3, 5, 6}\n"
     ]
    }
   ],
   "source": [
    "S1 = {3, 5, 6, 8, 6, 6}\n",
    "\n",
    "print(S1)"
   ]
  },
  {
   "cell_type": "markdown",
   "metadata": {},
   "source": [
    "Even though we instantiated a set to contain more than one 6, you can see that the set just discards them immediately. This, of course, makes it pretty wonky to compare two sets. At first glance, these two upcoming sets may not look equivalent, but they *are* because sets will automatically discard duplicate values!"
   ]
  },
  {
   "cell_type": "code",
   "execution_count": 41,
   "metadata": {},
   "outputs": [
    {
     "name": "stdout",
     "output_type": "stream",
     "text": [
      "True\n",
      "5 5\n"
     ]
    }
   ],
   "source": [
    "S1 = {1, 2, 3, 4, 5, 5, 5}\n",
    "S2 = {1, 2, 3, 4, 5}\n",
    "\n",
    "print(S1 == S2)\n",
    "\n",
    "print( len(S1), len(S2) )    # Lengths are the same as well!"
   ]
  },
  {
   "cell_type": "markdown",
   "metadata": {},
   "source": [
    "Sets also have a lot of unique method functions and Python operators that only work with sets! Assuming `s` and `t` are sets...\n",
    "\n",
    "`s.issubset(t)`, `s <= t` - test whether every element in `s` is in `t`\n",
    "\n",
    "`s.issuperset(t)`, `s >= t` - test whether every element in `t` is in `s`\n",
    "\n",
    "`s.union(t)`, `s | t` - new set with elements from both `s` and `t`\n",
    "\n",
    "`s.intersection(t)`, `s & t` - new set with element common to `s` and `t`\n",
    "\n",
    "`s.difference(t)`, `s - t` - new set with elements in `s` but not in `t`\n",
    "\n",
    "`s.symmetric_difference(t)`, `s ^ t` - new set with elements in either `s` or `t` but not both\n",
    "\n",
    "All of these should be pretty self-explanatory, we'll go over some light examples. I would just write the syntax down on your note sheet since I don't think y'all will have much trouble with them."
   ]
  },
  {
   "cell_type": "code",
   "execution_count": 42,
   "metadata": {},
   "outputs": [
    {
     "name": "stdout",
     "output_type": "stream",
     "text": [
      "S1 is a subset of S2: True\n",
      "S2 is a subset of S1: False\n"
     ]
    }
   ],
   "source": [
    "S1 = {1, 2}\n",
    "S2 = {1, 2, 3}\n",
    "\n",
    "print( \"S1 is a subset of S2:\", S1 <= S2 )    # 1, 2 are in S2\n",
    "\n",
    "print( \"S2 is a subset of S1:\", S2 <= S1 )    # 3 is not in S1"
   ]
  },
  {
   "cell_type": "code",
   "execution_count": 43,
   "metadata": {},
   "outputs": [
    {
     "name": "stdout",
     "output_type": "stream",
     "text": [
      "S1 is a superset of S2: False\n",
      "S2 is a superset of S1: True\n"
     ]
    }
   ],
   "source": [
    "S1 = {1, 2}\n",
    "S2 = {1, 2, 3}\n",
    "\n",
    "print( \"S1 is a superset of S2:\", S1 >= S2 )    # 3 is not in S1\n",
    "\n",
    "print( \"S2 is a superset of S1:\", S2 >= S1 )    # 1, 2 are in S2"
   ]
  },
  {
   "cell_type": "markdown",
   "metadata": {},
   "source": [
    "For the following method functions, it might be helpful to think of them visualized through venn diagrams. (I took these from programiz.com, shhhh don't tell anyone)"
   ]
  },
  {
   "cell_type": "markdown",
   "metadata": {},
   "source": [
    "### Union\n",
    "\n",
    "![](https://cdn.programiz.com/sites/tutorial2program/files/set-union.jpg)"
   ]
  },
  {
   "cell_type": "code",
   "execution_count": 44,
   "metadata": {},
   "outputs": [
    {
     "name": "stdout",
     "output_type": "stream",
     "text": [
      "{1, 2, 3, 4}\n"
     ]
    }
   ],
   "source": [
    "A = {1, 2}\n",
    "B = {3, 4}\n",
    "\n",
    "print( A | B )    # All elements from both sets"
   ]
  },
  {
   "cell_type": "markdown",
   "metadata": {},
   "source": [
    "### Intersection\n",
    "\n",
    "![](https://cdn.programiz.com/sites/tutorial2program/files/set-intersection.jpg)"
   ]
  },
  {
   "cell_type": "code",
   "execution_count": 45,
   "metadata": {},
   "outputs": [
    {
     "name": "stdout",
     "output_type": "stream",
     "text": [
      "{2, 3}\n"
     ]
    }
   ],
   "source": [
    "A = {1, 2, 3}\n",
    "B = {2, 3, 4}\n",
    "\n",
    "print( A & B )    # All elements shared between the sets"
   ]
  },
  {
   "cell_type": "markdown",
   "metadata": {},
   "source": [
    "### Difference\n",
    "\n",
    "![](https://cdn.programiz.com/sites/tutorial2program/files/set-difference.jpg)"
   ]
  },
  {
   "cell_type": "code",
   "execution_count": 46,
   "metadata": {},
   "outputs": [
    {
     "name": "stdout",
     "output_type": "stream",
     "text": [
      "{1}\n"
     ]
    }
   ],
   "source": [
    "A = {1, 2, 3}\n",
    "B = {2, 3, 4}\n",
    "\n",
    "print( A - B )    # Elements of A that are also in B are discarded, note the order does matter!"
   ]
  },
  {
   "cell_type": "markdown",
   "metadata": {},
   "source": [
    "### Symmetric Difference\n",
    "\n",
    "![](https://cdn.programiz.com/sites/tutorial2program/files/set-symmetric-difference.jpg)"
   ]
  },
  {
   "cell_type": "code",
   "execution_count": 47,
   "metadata": {},
   "outputs": [
    {
     "name": "stdout",
     "output_type": "stream",
     "text": [
      "{1, 4}\n"
     ]
    }
   ],
   "source": [
    "A = {1, 2, 3}\n",
    "B = {2, 3, 4}\n",
    "\n",
    "print( A ^ B )    # All elements unique to both sets"
   ]
  },
  {
   "cell_type": "markdown",
   "metadata": {},
   "source": [
    "Lastly, sets have unique method functions to add and remove elements from them.\n",
    "\n",
    "`.add()` - Adds an element to the set\n",
    "\n",
    "`.clear()` - Removes all elements from the set\n",
    "\n",
    "`.copy()` - Returns a copy of the set\n",
    "\n",
    "`.discard()` - Removes an element from the set if it exists\n",
    "\n",
    "`.pop()` - Removes and returns an element from the set, raises `KeyError` if the set is empty\n",
    "\n",
    "`.remove()` - Removes an element from the set, raises `KeyError` if the element is not found\n",
    "\n",
    "Any of the method functions here that require a parameter take the *value* you're attempting to add/remove. Sets *do not have indices*, since they are unordered. I won't be going over these since they're all pretty self-explanatory, and you've probably seen them used quite a bit now."
   ]
  },
  {
   "cell_type": "markdown",
   "metadata": {},
   "source": [
    "## Wrap-Up"
   ]
  },
  {
   "cell_type": "markdown",
   "metadata": {},
   "source": [
    "Alrighty, so hopefully this helped! Obviously I didn't cover everything there is to know since most of the knowledge can be expanded into more complex situations. The harder problems you'll see on the past exams all come from these fundamental ideas, so hopefully you're able to abstract from here. If you want me to cover anything more, or explain a certain concept better, feel free to contact me! If you're stuck on a certain problem from the past exams, I'll always be here to go through it with you!\n",
    "\n",
    "I wish you guys the best of luck on Exam 2!"
   ]
  }
 ],
 "metadata": {
  "kernelspec": {
   "display_name": "Python 3",
   "language": "python",
   "name": "python3"
  },
  "language_info": {
   "codemirror_mode": {
    "name": "ipython",
    "version": 3
   },
   "file_extension": ".py",
   "mimetype": "text/x-python",
   "name": "python",
   "nbconvert_exporter": "python",
   "pygments_lexer": "ipython3",
   "version": "3.7.4"
  }
 },
 "nbformat": 4,
 "nbformat_minor": 2
}
