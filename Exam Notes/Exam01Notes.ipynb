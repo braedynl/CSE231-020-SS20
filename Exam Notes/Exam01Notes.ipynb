{
 "cells": [
  {
   "cell_type": "markdown",
   "metadata": {},
   "source": [
    "# Quirky Things in Python That Enbody Will Test You On Even Though You Won't Ever Find This Information Useful When Actually Developing\n",
    "## CSE231 - Exam 1"
   ]
  },
  {
   "cell_type": "markdown",
   "metadata": {},
   "source": [
    "Hi, and welcome to *Quirky Things in Python That Enbody Will Test You On Even Though You Won't Ever Find This Information Useful When Actually Developing*. \n",
    "\n",
    "We're going to talk about, you guessed it, quirky things in Python. These tend to be features of Python that you would either write by mistake or just wouldn't think would work but actually do. Enbody loves putting questions about these things on his exams and so hopefully this will help you guys spot them.\n",
    "\n",
    "These are simply just extra things you should keep in mind when taking the exam. Enbody will sneak these into some of his questions and it can be extremely difficult to make sense of sometimes. Looking over this should be supplemental to testing yourself on the past exams. You can find those here:\n",
    "\n",
    "https://web.cse.msu.edu/~cse231/Online/Exams/"
   ]
  },
  {
   "cell_type": "markdown",
   "metadata": {},
   "source": [
    "____"
   ]
  },
  {
   "cell_type": "markdown",
   "metadata": {},
   "source": [
    "## Boolean Type Translations"
   ]
  },
  {
   "cell_type": "markdown",
   "metadata": {},
   "source": [
    "This one might be obvious,  it's something that we talked about on the first day, actually. The fundamental types we use in Python can also be evaluated as potential booleans. It's strange, and not something you would typically code because it tends to be difficult to read/comprehend."
   ]
  },
  {
   "cell_type": "code",
   "execution_count": 1,
   "metadata": {},
   "outputs": [
    {
     "name": "stdout",
     "output_type": "stream",
     "text": [
      "true_string: True\n",
      "true_int: True\n",
      "true_float: True\n"
     ]
    }
   ],
   "source": [
    "true_string = \"hello\"    # If the string contains ANYTHING, it's considered True\n",
    "true_int = 5    # If the int ISN'T ZERO, it's considered True\n",
    "true_float = 5.0    # If the float ISN'T ZERO, it's considered True\n",
    "\n",
    "false_string = \"\"\n",
    "false_int = 0\n",
    "false_float = 0.0\n",
    "\n",
    "print( \"true_string:\", bool(true_string) )\n",
    "print( \"true_int:\", bool(true_int) )\n",
    "print( \"true_float:\", bool(true_float) )"
   ]
  },
  {
   "cell_type": "code",
   "execution_count": 2,
   "metadata": {},
   "outputs": [
    {
     "name": "stdout",
     "output_type": "stream",
     "text": [
      "false_string: False\n",
      "false_int: False\n",
      "false_float: False\n"
     ]
    }
   ],
   "source": [
    "print( \"false_string:\", bool(false_string) )\n",
    "print( \"false_int:\", bool(false_int) )\n",
    "print( \"false_float:\", bool(false_float) )"
   ]
  },
  {
   "cell_type": "markdown",
   "metadata": {},
   "source": [
    "There are no special exceptions to the rule-comments I left above. You might think that really small numbers or strings with just spaces would evaluate as `False`, but they don't. Remember that any number at all isn't considered the same as zero, and that spaces **are** considered characters by Python."
   ]
  },
  {
   "cell_type": "code",
   "execution_count": 33,
   "metadata": {},
   "outputs": [
    {
     "name": "stdout",
     "output_type": "stream",
     "text": [
      "True\n",
      "True\n"
     ]
    }
   ],
   "source": [
    "print( bool(\" \") )    # String with a single space\n",
    "print( bool(0.0000000001) )    # Very, very small float"
   ]
  },
  {
   "cell_type": "markdown",
   "metadata": {},
   "source": [
    "This, deceptively, also bleeds into if/elif/else logic. Since you can actually evaluate these types as booleans, you can write some pretty strange logical statements that will, in fact, run normally. \n",
    "\n",
    "When creating a conditional expression like the ones you'll see here, the variables/values are being casted to booleans before evaluation. So even though we're not using the `bool()` cast on these variables/values, Python will automatically cast them for you in the background because you set up an expression that requires the variables/values to be of a boolean form."
   ]
  },
  {
   "cell_type": "code",
   "execution_count": 4,
   "metadata": {},
   "outputs": [
    {
     "name": "stdout",
     "output_type": "stream",
     "text": [
      "x was evaluated True\n"
     ]
    }
   ],
   "source": [
    "x = 5\n",
    "\n",
    "if x:\n",
    "    print(\"x was evaluated True\")"
   ]
  },
  {
   "cell_type": "code",
   "execution_count": 5,
   "metadata": {},
   "outputs": [],
   "source": [
    "y = 0\n",
    "\n",
    "if y:\n",
    "    print(\"y was evaluated True\")"
   ]
  },
  {
   "cell_type": "markdown",
   "metadata": {},
   "source": [
    "This has no output, since `y = 0`. `0` is considered `False` as we've talked about, and thus the if-statement does not execute its suite. This behaviour is alike what you would see if you set `y = \"\"` or `y = 0.0`."
   ]
  },
  {
   "cell_type": "code",
   "execution_count": 6,
   "metadata": {},
   "outputs": [
    {
     "name": "stdout",
     "output_type": "stream",
     "text": [
      "why can you write expressions like this?\n"
     ]
    }
   ],
   "source": [
    "if (5 and \"hello\") or 0:\n",
    "    print(\"why can you write expressions like this?\")"
   ]
  },
  {
   "cell_type": "markdown",
   "metadata": {},
   "source": [
    "Here's a more complicated and whacky example. What we're evaluating above is equivalent to saying:\n",
    "\n",
    "```\n",
    "if (True and True) or False:\n",
    "    (...)\n",
    "```\n",
    "\n",
    "This stuff is weird, as you can tell. It really doesn't feel like you should be able to do this but you can and Python doesn't mind. Don't ever write code like this in the real world, you'll probably get fired lmao. Enbody might sneak something like this on the exam so make sure you can spot it."
   ]
  },
  {
   "cell_type": "markdown",
   "metadata": {},
   "source": [
    "## The Classic Logic Mistake"
   ]
  },
  {
   "cell_type": "markdown",
   "metadata": {},
   "source": [
    "I call this the \"classic logic mistake\" because almost every new programmer will do this. I've done it plenty of times myself when I was starting out. It builds on what we've just talked about, and you might recognize the error, too, if you've been working with if/elif/else statements a lot. I've seen Enbody sneak this into some past exams questions.\n",
    "\n",
    "Let's say I want to check a variable, `my_int`, to see if it's bigger than both 5 and 10."
   ]
  },
  {
   "cell_type": "code",
   "execution_count": 7,
   "metadata": {},
   "outputs": [
    {
     "name": "stdout",
     "output_type": "stream",
     "text": [
      "my_int is greater than both 5 and 10\n"
     ]
    }
   ],
   "source": [
    "my_int = 6\n",
    "\n",
    "if my_int > 5 and 10:\n",
    "    print(\"my_int is greater than both 5 and 10\")"
   ]
  },
  {
   "cell_type": "markdown",
   "metadata": {},
   "source": [
    "Now at first glance, you might say \"wait what's wrong with this?\". But notice we have `my_int = 6`, and we were trying to check if `my_int` was greater than both 5 *and* 10. Sneakily, the `print()` statement gets ran because as we've learned, checking the condition of a type, like int `10`, *will* evaluate as a boolean. And so what this if-statement is *really* checking is:\n",
    "\n",
    "```\n",
    "if my_int > 5 and True:\n",
    "    (...)\n",
    "```\n",
    "\n",
    "This means that the suite of statements for this conditional expression will *always* run if `my_int` is greater than 5. It doesn't matter what the other portion of the expression is, because `10` is considered `True` by Python. What we should have written is:"
   ]
  },
  {
   "cell_type": "code",
   "execution_count": 8,
   "metadata": {},
   "outputs": [],
   "source": [
    "my_int = 6\n",
    "\n",
    "if my_int > 5 and my_int > 10:\n",
    "    print(\"my_int is greater than both 5 and 10\")"
   ]
  },
  {
   "cell_type": "markdown",
   "metadata": {},
   "source": [
    "Now we get no output as we should have expected. "
   ]
  },
  {
   "cell_type": "markdown",
   "metadata": {},
   "source": [
    "## Operator Precedence"
   ]
  },
  {
   "cell_type": "markdown",
   "metadata": {},
   "source": [
    "There are two categories of operators we're going to discuss when it comes to precedence: mathematical and comparison. Let's first talk about mathematical precedence. \n",
    "\n",
    "In case you didn't know already, Python actually follows the infamous PEMDAS! Parentheses, exponentiation, multiplication, division, addition, subtraction. You might think that a programming language wouldn't know to do this, *but Python has the intelligence!* It will always follow PEMDAS when you write complex mathematical expressions. "
   ]
  },
  {
   "cell_type": "code",
   "execution_count": 9,
   "metadata": {},
   "outputs": [
    {
     "name": "stdout",
     "output_type": "stream",
     "text": [
      "7\n"
     ]
    }
   ],
   "source": [
    "print( 1 + 2 * 3 )"
   ]
  },
  {
   "cell_type": "markdown",
   "metadata": {},
   "source": [
    "Equivalent to doing `1 + (2 * 3)`, multiplication takes precedence over addition, and so the result is 7."
   ]
  },
  {
   "cell_type": "code",
   "execution_count": 10,
   "metadata": {},
   "outputs": [
    {
     "name": "stdout",
     "output_type": "stream",
     "text": [
      "9\n"
     ]
    }
   ],
   "source": [
    "print( (1 + 2) * 3 )"
   ]
  },
  {
   "cell_type": "markdown",
   "metadata": {},
   "source": [
    "And of course, if we were to arrange our parentheses like this, we instead get 9. We're now adding 1 and 2, and multiplying the result by 3.  \n",
    "\n",
    "This should all be pretty self-explanatory since you've likely been doing PEMDAS for years now. But what about comparison precedence? We're able to write compound comparison expressions, so what happens when we just throw a bunch of them together?\n",
    "\n",
    "Well as it turns out, all comparison operators have *equal* precedence, meaning that all expressions are evaluated at once from left to right. We'll go through an example:"
   ]
  },
  {
   "cell_type": "code",
   "execution_count": 11,
   "metadata": {},
   "outputs": [
    {
     "name": "stdout",
     "output_type": "stream",
     "text": [
      "True\n"
     ]
    }
   ],
   "source": [
    "print( 10 < 20 < 30 )"
   ]
  },
  {
   "cell_type": "markdown",
   "metadata": {},
   "source": [
    "You can think of this as saying `(10 < 20) and (20 < 30)`, just that we're combining the two expressions above. "
   ]
  },
  {
   "cell_type": "code",
   "execution_count": 12,
   "metadata": {},
   "outputs": [
    {
     "name": "stdout",
     "output_type": "stream",
     "text": [
      "False\n"
     ]
    }
   ],
   "source": [
    "print( 10 < 0 < 30 )"
   ]
  },
  {
   "cell_type": "markdown",
   "metadata": {},
   "source": [
    "And, as expected, if we change the middle number to be 0, then our equivalent expression becomes `(10 < 0) and (0 < 30)`, which can be reduced to `False and True`, which equates to being `False`. (Study up on boolean logic btw, not going to cover that here)\n",
    "\n",
    "Like the previous subject, writing compound comparison expressions like this tends to be hard to understand at first glance and are usually unintuitive when you throw variables into the mix. It's much better for readability if you combine multiple comparisons with an `and` to make your intentions clear.  "
   ]
  },
  {
   "cell_type": "markdown",
   "metadata": {},
   "source": [
    "## Function Scope"
   ]
  },
  {
   "cell_type": "markdown",
   "metadata": {},
   "source": [
    "This one isn't going to be so much of a programming quirk, but it's a common mistake that a lot of new programmers make when first introduced to functions. \"Scope\" in this context refers to where your variables exist in your program. Python creates and destroys variables all the time in the background execution of your program, and so it's important to know when you're truly able to access a variable you've created. \n",
    "\n",
    "Let's create a function here:"
   ]
  },
  {
   "cell_type": "code",
   "execution_count": 13,
   "metadata": {},
   "outputs": [
    {
     "ename": "NameError",
     "evalue": "name 'int_sum' is not defined",
     "output_type": "error",
     "traceback": [
      "\u001b[1;31m---------------------------------------------------------------------------\u001b[0m",
      "\u001b[1;31mNameError\u001b[0m                                 Traceback (most recent call last)",
      "\u001b[1;32m<ipython-input-13-746f4094fae1>\u001b[0m in \u001b[0;36m<module>\u001b[1;34m\u001b[0m\n\u001b[0;32m      7\u001b[0m \u001b[0mmy_sum\u001b[0m \u001b[1;33m=\u001b[0m \u001b[0mtriple_sum\u001b[0m\u001b[1;33m(\u001b[0m \u001b[1;36m1\u001b[0m\u001b[1;33m,\u001b[0m \u001b[1;36m2\u001b[0m\u001b[1;33m,\u001b[0m \u001b[1;36m3\u001b[0m \u001b[1;33m)\u001b[0m\u001b[1;33m\u001b[0m\u001b[1;33m\u001b[0m\u001b[0m\n\u001b[0;32m      8\u001b[0m \u001b[1;33m\u001b[0m\u001b[0m\n\u001b[1;32m----> 9\u001b[1;33m \u001b[0mprint\u001b[0m\u001b[1;33m(\u001b[0m\u001b[0mint_sum\u001b[0m\u001b[1;33m)\u001b[0m\u001b[1;33m\u001b[0m\u001b[1;33m\u001b[0m\u001b[0m\n\u001b[0m",
      "\u001b[1;31mNameError\u001b[0m: name 'int_sum' is not defined"
     ]
    }
   ],
   "source": [
    "def triple_sum( int1, int2, int3 ):\n",
    "    \n",
    "    int_sum = int1 + int2 + int3\n",
    "    \n",
    "    return int_sum\n",
    "\n",
    "\n",
    "my_sum = triple_sum( 1, 2, 3 )\n",
    "\n",
    "print(int_sum)"
   ]
  },
  {
   "cell_type": "markdown",
   "metadata": {},
   "source": [
    "So what went wrong? Well, even though we called the function, and declared a variable in it called `int_sum`, *we cannot access this variable*. `int_sum` is destroyed by Python when the function returns -- it no longer exists. You can think of variables within a function as \"helper variables\". They are variables that are only to be used in the context of the function's objective.\n",
    "\n",
    "Another way of thinking of functions is that they live in a separate world from the rest of your program. They are like mini-programs within your much larger program.\n",
    "\n",
    "Let's create another function to illustrate another common mistake:"
   ]
  },
  {
   "cell_type": "code",
   "execution_count": 14,
   "metadata": {},
   "outputs": [
    {
     "name": "stdout",
     "output_type": "stream",
     "text": [
      "0\n"
     ]
    }
   ],
   "source": [
    "def increment_20( input_int ):\n",
    "    return input_int + 20\n",
    "\n",
    "input_int = 0\n",
    "output_int = increment_20(input_int)\n",
    "\n",
    "print(input_int)"
   ]
  },
  {
   "cell_type": "markdown",
   "metadata": {},
   "source": [
    "So what's going on here? We have a function that takes a parameter called `input_int`, and returns `input_int` but incremented by 20, correct? So how come `input_int` isn't incremented by 20 when we print it afterwards?\n",
    "\n",
    "This is where a lot of confusion begins. Remember the \"separate world\" comparison I made, the name `input_int` in this line:\n",
    "\n",
    "```\n",
    "def increment_20( input_int ):\n",
    "```\n",
    "\n",
    "is a completely different `input_int` from the one in this line:\n",
    "\n",
    "```\n",
    "input_int = 0\n",
    "```\n",
    "\n",
    "The `input_int` declared as the function parameter for `increment_20()` is taking a copy of the value you pass into the function call, and placing that value into the parameter, `input_int`. It just so happens to have the same name as a variable we have outside of the function. The returned value of the function *is the only value* we can obtain from the function. A function's algorithm is kept \"secret\" from the caller, you're simply giving input, and it simply gives an output. Likewise, a function can only obtain values from outside of itself through its parameter values. \n",
    "\n",
    "Here's an example of a function not being able to access variables from the outside:"
   ]
  },
  {
   "cell_type": "code",
   "execution_count": 15,
   "metadata": {},
   "outputs": [
    {
     "ename": "UnboundLocalError",
     "evalue": "local variable 'my_int' referenced before assignment",
     "output_type": "error",
     "traceback": [
      "\u001b[1;31m---------------------------------------------------------------------------\u001b[0m",
      "\u001b[1;31mUnboundLocalError\u001b[0m                         Traceback (most recent call last)",
      "\u001b[1;32m<ipython-input-15-4a7bbade5544>\u001b[0m in \u001b[0;36m<module>\u001b[1;34m\u001b[0m\n\u001b[0;32m      4\u001b[0m     \u001b[0mmy_int\u001b[0m \u001b[1;33m+=\u001b[0m \u001b[1;36m1\u001b[0m\u001b[1;33m\u001b[0m\u001b[1;33m\u001b[0m\u001b[0m\n\u001b[0;32m      5\u001b[0m \u001b[1;33m\u001b[0m\u001b[0m\n\u001b[1;32m----> 6\u001b[1;33m \u001b[0mincrement\u001b[0m\u001b[1;33m(\u001b[0m\u001b[1;33m)\u001b[0m\u001b[1;33m\u001b[0m\u001b[1;33m\u001b[0m\u001b[0m\n\u001b[0m",
      "\u001b[1;32m<ipython-input-15-4a7bbade5544>\u001b[0m in \u001b[0;36mincrement\u001b[1;34m()\u001b[0m\n\u001b[0;32m      2\u001b[0m \u001b[1;33m\u001b[0m\u001b[0m\n\u001b[0;32m      3\u001b[0m \u001b[1;32mdef\u001b[0m \u001b[0mincrement\u001b[0m\u001b[1;33m(\u001b[0m\u001b[1;33m)\u001b[0m\u001b[1;33m:\u001b[0m\u001b[1;33m\u001b[0m\u001b[1;33m\u001b[0m\u001b[0m\n\u001b[1;32m----> 4\u001b[1;33m     \u001b[0mmy_int\u001b[0m \u001b[1;33m+=\u001b[0m \u001b[1;36m1\u001b[0m\u001b[1;33m\u001b[0m\u001b[1;33m\u001b[0m\u001b[0m\n\u001b[0m\u001b[0;32m      5\u001b[0m \u001b[1;33m\u001b[0m\u001b[0m\n\u001b[0;32m      6\u001b[0m \u001b[0mincrement\u001b[0m\u001b[1;33m(\u001b[0m\u001b[1;33m)\u001b[0m\u001b[1;33m\u001b[0m\u001b[1;33m\u001b[0m\u001b[0m\n",
      "\u001b[1;31mUnboundLocalError\u001b[0m: local variable 'my_int' referenced before assignment"
     ]
    }
   ],
   "source": [
    "my_int = 0\n",
    "\n",
    "def increment():\n",
    "    my_int += 1\n",
    "\n",
    "increment()"
   ]
  },
  {
   "cell_type": "markdown",
   "metadata": {},
   "source": [
    "`my_int` doesn't exist inside the function, `increment()`, and so attempting to call this function results in an error."
   ]
  },
  {
   "cell_type": "markdown",
   "metadata": {},
   "source": [
    "## Optional `print()` Parameters "
   ]
  },
  {
   "cell_type": "markdown",
   "metadata": {},
   "source": [
    "For as much as we use `print()`, we don't usually talk much about its parameters. There are actually 4 optional parameters that you can supply to `print()`, but we'll only talk about 2 of them that might show up on the exam. "
   ]
  },
  {
   "cell_type": "markdown",
   "metadata": {},
   "source": [
    "In proper code documentation, the syntax for `print()` is:\n",
    "\n",
    "```\n",
    "print(*objects[, sep, end, file, flush])\n",
    "```\n",
    "\n",
    "`objects` - Any object(s). Will be converted to str before printed\n",
    "\n",
    "`sep` - Optional. Specify how to separate objects if there is more than one\n",
    "\n",
    "`end` - Optional. Specify what to print at the end.\n",
    "\n",
    "We're going to ignore `file` and `flush` because those will not show up on the exam. The '\\*' character next to `objects` indicates that you can supply an infinite amount of `objects`. Like we've talked about before, the square brackets indicate that a parameter is optional. So what do `sep` and `end` do?"
   ]
  },
  {
   "cell_type": "code",
   "execution_count": 16,
   "metadata": {},
   "outputs": [
    {
     "name": "stdout",
     "output_type": "stream",
     "text": [
      "apple---banana---cherry\n"
     ]
    }
   ],
   "source": [
    "print(\"apple\", \"banana\", \"cherry\", sep=\"---\")"
   ]
  },
  {
   "cell_type": "markdown",
   "metadata": {},
   "source": [
    "When we have multiple objects, (in this case, three strings), the `sep` parameter can change what string to place in-between each object. \n",
    "\n",
    "At this point you might think \"huh, doesn't that mean by default, `sep=\" \"`?\", and you would be correct! You don't have to supply this parameter, and so the function, by default, will set `sep` to be a single space when printing multiple, comma-separated objects. "
   ]
  },
  {
   "cell_type": "code",
   "execution_count": 17,
   "metadata": {},
   "outputs": [
    {
     "name": "stdout",
     "output_type": "stream",
     "text": [
      "apple banana cherry---"
     ]
    }
   ],
   "source": [
    "print(\"apple\", \"banana\", \"cherry\", end=\"---\")"
   ]
  },
  {
   "cell_type": "markdown",
   "metadata": {},
   "source": [
    "As you might expect, the `end` parameter simply concatenates a string to the end of your printed line. By default, `end` is actually set to be `end='\\n'`, the newline character. This makes it so that each subsequent `print()` statement in your code is one line lower than the previous."
   ]
  },
  {
   "cell_type": "code",
   "execution_count": 18,
   "metadata": {},
   "outputs": [
    {
     "name": "stdout",
     "output_type": "stream",
     "text": [
      "apple banana cherry---apple banana cherry---"
     ]
    }
   ],
   "source": [
    "print(\"apple\", \"banana\", \"cherry\", end=\"---\")\n",
    "print(\"apple\", \"banana\", \"cherry\", end=\"---\")"
   ]
  },
  {
   "cell_type": "markdown",
   "metadata": {},
   "source": [
    "As you can see, the `print()` statements, even while being on subsequent lines in the code, will share the same line and continue to add on to the currently printed line if you replace the newline character."
   ]
  },
  {
   "cell_type": "markdown",
   "metadata": {},
   "source": [
    "## Stupid Initialization"
   ]
  },
  {
   "cell_type": "markdown",
   "metadata": {},
   "source": [
    "I should preface that you should never, ever, initialize variables like this. I just want to make sure you know that this *will not* result in an error if you write something like this. It's extremely stupid and terrible practice but you can, in fact, do it if you so choose."
   ]
  },
  {
   "cell_type": "code",
   "execution_count": 19,
   "metadata": {},
   "outputs": [
    {
     "name": "stdout",
     "output_type": "stream",
     "text": [
      "0\n",
      "0\n",
      "0\n",
      "0\n"
     ]
    }
   ],
   "source": [
    "a = b = c = d = 0\n",
    "\n",
    "print(a)\n",
    "print(b)\n",
    "print(c)\n",
    "print(d)"
   ]
  },
  {
   "cell_type": "markdown",
   "metadata": {},
   "source": [
    "This simply makes all variables hold the value that is all the way to the right. In this case, we just initialized all of them to be 0. Again, you should never do this, but I saw it on one of the past exams and thought I should address it here to let you know that it's possible and won't result in an error. \n",
    "\n",
    "This is bad practice solely for readability reasons. It's a lot better to type out\n",
    "\n",
    "```\n",
    "a = 0\n",
    "b = 0\n",
    "(...)\n",
    "```\n",
    "\n",
    "to make it explicitly clear what each name is holding. "
   ]
  },
  {
   "cell_type": "markdown",
   "metadata": {},
   "source": [
    "## String Formatting with `.format()`"
   ]
  },
  {
   "cell_type": "markdown",
   "metadata": {},
   "source": [
    "I lastly wanted to talk about `.format()` again. It's an extremely strange method, and has functionality that is unlike almost all other method functions in Python.\n",
    "\n",
    "As you should know, `.format()` is a method function for strings, and specifically strings. You can insert curly braces ('{}') into your strings as a sort of \"template\" for your printed string to follow and replace with the proper variables/values you want. \n",
    "\n",
    "Inside the curly braces, you can supply character-based parameters that will adjust the presentation of the replaced values. Most of these parameters are for adjusting the presentation of number values. "
   ]
  },
  {
   "cell_type": "code",
   "execution_count": 20,
   "metadata": {},
   "outputs": [
    {
     "name": "stdout",
     "output_type": "stream",
     "text": [
      "My number is 5\n"
     ]
    }
   ],
   "source": [
    "# Here's a basic, no parameter example of using .format()\n",
    "\n",
    "my_num = 5\n",
    "\n",
    "print(\"My number is {}\".format(my_num))"
   ]
  },
  {
   "cell_type": "code",
   "execution_count": 21,
   "metadata": {},
   "outputs": [
    {
     "name": "stdout",
     "output_type": "stream",
     "text": [
      "My favorite number is 5, my other is 10\n"
     ]
    }
   ],
   "source": [
    "# The order of parameters supplied to .format() correspond to the order of curly braces\n",
    "\n",
    "my_num = 5\n",
    "my_other_num = 10\n",
    "\n",
    "print(\"My favorite number is {}, my other is {}\".format(my_num, my_other_num))"
   ]
  },
  {
   "cell_type": "markdown",
   "metadata": {},
   "source": [
    "**Not all of these will show up on the exam. `fill`, `align`, `width`, `,`, `.precision` and `type` are the most important formatting paramaters that you'll see. I'll be leaving out the irrelevant parameter characters.**\n",
    "\n",
    "The parameters that can be supplied to the curly braces are as follows:\n",
    "\n",
    "```\n",
    ":[[fill]align][sign][#][0][width][,][.precision][type]\n",
    "```\n",
    "\n",
    "where each parameter can be a character, number or a specific set of characters that have encoded meaning to the parameter. \n",
    "\n",
    "`fill` - can be any character. Will fill remaining spaces in the allocated slots from `width` with the given character.\n",
    "\n",
    "`align` - direction of alignment. Can be any of the following characters:\n",
    "\n",
    "'<' - Forces the field to be left-aligned within the available space (this is the default for most objects).\n",
    "    \n",
    "'>' - Forces the field to be right-aligned within the available space (this is the default for numbers).\n",
    "    \n",
    "'^' - Forces the field to be centered within the available space.\n",
    "\n",
    "(Another one, '=', not covered)\n",
    "\n",
    "`sign` - The sign option is only valid for number types, and can be one of the following:\n",
    "\n",
    "'+' - indicates that a sign should be used for both positive as well as negative numbers.\n",
    "\n",
    "'-' - indicates that a sign should be used only for negative numbers (this is the default behavior).\n",
    "\n",
    "' ' - indicates that a leading space should be used on positive numbers, and a minus sign on negative numbers.\n",
    "\n",
    "`#` - only valid for integers, and only for binary, octal, or hexadecimal output. If present, it specifies that the output will be prefixed by '0b', '0o', or '0x', respectively.\n",
    "\n",
    "`width` - integer defining the minimum field width. If not specified, then the field width will be determined by the content.\n",
    "\n",
    "`,` - signals the use of a comma for a thousands separator. For a locale aware separator, use the 'n' integer presentation type instead.\n",
    "\n",
    "`.precision` - a decimal number indicating how many digits should be displayed after the decimal point for a floating point value formatted with 'f' and 'F', or before and after the decimal point for a floating point value formatted with 'g' or 'G'. For non-number types the field indicates the maximum field size - in other words, how many characters will be used from the field content. The precision is not allowed for integer values.\n",
    "\n",
    "`type` - how the data should be presented. The available string presentation types are:\n",
    "\n",
    "'s' - String format. This is the default type for strings and may be omitted.\n",
    "\n",
    "'b' - Binary format. Outputs the number in base 2.\n",
    "\n",
    "'c' - Character. Converts the integer to the corresponding unicode character before printing.\n",
    "\n",
    "'d' - Decimal Integer. Outputs the number in base 10.\n",
    "\n",
    "'o' - Octal format. Outputs the number in base 8.\n",
    "\n",
    "'x' - Hex format. Outputs the number in base 16, using lower- case letters for the digits above 9.\n",
    "\n",
    "'X' - Hex format. Outputs the number in base 16, using upper- case letters for the digits above 9.\n",
    "\n",
    "'n' - Number. This is the same as 'd', except that it uses the current locale setting to insert the appropriate number separator characters.\n",
    "\n",
    "The available presentation types for floating point and decimal values are:\n",
    "\n",
    "'e' - Exponent notation. Prints the number in scientific notation using the letter ‘e’ to indicate the exponent. The default precision is 6.\n",
    "\n",
    "'E' - Exponent notation. Same as 'e' except it uses an upper case ‘E’ as the separator character.\n",
    "\n",
    "'f' - Fixed-point notation. Displays the number as a fixed-point number. The default precision is 6.\n",
    "\n",
    "'F' - Fixed point notation. Same as 'f'.\n",
    "\n",
    "'n' - Number. This is the same as 'g', except that it uses the current locale setting to insert the appropriate number separator characters.\n",
    "\n",
    "'%' - Percentage. Multiplies the number by 100 and displays in fixed ('f') format, followed by a percent sign.\n",
    "\n",
    "(Another, 'g', not covered)\n",
    "\n",
    "Example time!"
   ]
  },
  {
   "cell_type": "markdown",
   "metadata": {},
   "source": [
    "### Using `align`, `width` and `fill`"
   ]
  },
  {
   "cell_type": "code",
   "execution_count": 22,
   "metadata": {},
   "outputs": [
    {
     "name": "stdout",
     "output_type": "stream",
     "text": [
      "left aligned                  \n"
     ]
    }
   ],
   "source": [
    "print('{:<30}'.format('left aligned'))    # align: '<' (left), width: '30'"
   ]
  },
  {
   "cell_type": "code",
   "execution_count": 23,
   "metadata": {},
   "outputs": [
    {
     "name": "stdout",
     "output_type": "stream",
     "text": [
      "                 right aligned\n"
     ]
    }
   ],
   "source": [
    "print('{:>30}'.format('right aligned'))    # align: '>' (right), width: '30'"
   ]
  },
  {
   "cell_type": "code",
   "execution_count": 24,
   "metadata": {},
   "outputs": [
    {
     "name": "stdout",
     "output_type": "stream",
     "text": [
      "           centered           \n"
     ]
    }
   ],
   "source": [
    "print('{:^30}'.format('centered'))    # align: '^' (center), width: '30'"
   ]
  },
  {
   "cell_type": "code",
   "execution_count": 25,
   "metadata": {},
   "outputs": [
    {
     "name": "stdout",
     "output_type": "stream",
     "text": [
      "***********centered***********\n"
     ]
    }
   ],
   "source": [
    "print('{:*^30}'.format('centered'))    # fill: '*', align: '^' (center), width: '30'"
   ]
  },
  {
   "cell_type": "markdown",
   "metadata": {},
   "source": [
    "### Using `,`"
   ]
  },
  {
   "cell_type": "code",
   "execution_count": 26,
   "metadata": {},
   "outputs": [
    {
     "name": "stdout",
     "output_type": "stream",
     "text": [
      "1,234,567,890\n"
     ]
    }
   ],
   "source": [
    "print('{:,}'.format(1234567890))"
   ]
  },
  {
   "cell_type": "markdown",
   "metadata": {},
   "source": [
    "### Using `.precision` and `type`"
   ]
  },
  {
   "cell_type": "code",
   "execution_count": 27,
   "metadata": {},
   "outputs": [
    {
     "name": "stdout",
     "output_type": "stream",
     "text": [
      "89.90\n"
     ]
    }
   ],
   "source": [
    "print('{:.2f}'.format(89.8999))    # precision: '.2' (2nd decimal place), type: 'f' (float presentation)"
   ]
  },
  {
   "cell_type": "code",
   "execution_count": 28,
   "metadata": {},
   "outputs": [
    {
     "name": "stdout",
     "output_type": "stream",
     "text": [
      "90\n"
     ]
    }
   ],
   "source": [
    "print('{:.2n}'.format(89.8999))    # precision: '.2' (2nd decimal place), type: 'n' (int presentation)"
   ]
  },
  {
   "cell_type": "code",
   "execution_count": 29,
   "metadata": {},
   "outputs": [
    {
     "name": "stdout",
     "output_type": "stream",
     "text": [
      "8.99e+01\n"
     ]
    }
   ],
   "source": [
    "print('{:.2e}'.format(89.8999))    # precision: '.2' (2nd decimal place), type: 'e' (scientific presentation)"
   ]
  },
  {
   "cell_type": "code",
   "execution_count": 30,
   "metadata": {},
   "outputs": [
    {
     "name": "stdout",
     "output_type": "stream",
     "text": [
      "12.00%\n"
     ]
    }
   ],
   "source": [
    "print('{:.2%}'.format(0.12))    # precision: '.2' (2nd decimal place), type: '%' (percentage presentation)"
   ]
  },
  {
   "cell_type": "markdown",
   "metadata": {},
   "source": [
    "### Combining Them"
   ]
  },
  {
   "cell_type": "code",
   "execution_count": 31,
   "metadata": {},
   "outputs": [
    {
     "name": "stdout",
     "output_type": "stream",
     "text": [
      "@@@@@@@@@@@@@@@@1,234,567,890.8568@@@@@@@@@@@@@@@@\n"
     ]
    }
   ],
   "source": [
    "print('{:@^50,.4f}'.format(1234567890.85679759))\n",
    "\n",
    "# '@' - fill character\n",
    "# '^' - alignment\n",
    "# '50' - width\n",
    "# ',' - comma separator\n",
    "# '.4' - round to 4th decimal place\n",
    "# 'f' - present as floating point value"
   ]
  },
  {
   "cell_type": "markdown",
   "metadata": {},
   "source": [
    "I would encourage you all to fiddle around with the parameters yourself in case anything was unclear here. String formatting isn't something you see too often in the real world, but I would still consider it worth learning because it comes in handy with future projects and the exams, obviously. "
   ]
  },
  {
   "cell_type": "markdown",
   "metadata": {},
   "source": [
    "### The Width Edge-Case"
   ]
  },
  {
   "cell_type": "markdown",
   "metadata": {},
   "source": [
    "If you are using center justification, \"^\", in an even amount of width and an odd amount of space taken up by the value (or vice versa), Python will always prefer the left-most side. Example:"
   ]
  },
  {
   "cell_type": "code",
   "execution_count": 32,
   "metadata": {},
   "outputs": [
    {
     "name": "stdout",
     "output_type": "stream",
     "text": [
      "#2##\n"
     ]
    }
   ],
   "source": [
    "price = 2\n",
    "\n",
    "print(\"{:#^4}\".format(price))"
   ]
  },
  {
   "cell_type": "markdown",
   "metadata": {},
   "source": [
    "We can see from using our fill-character, '#', that there is one space on the left and two on the right since we're trying to center-justify a single space number within 4 `width`. Again, `.format()` will prefer left justification."
   ]
  },
  {
   "cell_type": "markdown",
   "metadata": {},
   "source": [
    "______________________________"
   ]
  },
  {
   "cell_type": "markdown",
   "metadata": {},
   "source": [
    "That's all I got for right now! Again, I want to emphasize looking over the past exams. Take them as if they were the real thing and be sure to go through a lot of them. I wish you guys the best of luck!"
   ]
  }
 ],
 "metadata": {
  "kernelspec": {
   "display_name": "Python 3",
   "language": "python",
   "name": "python3"
  },
  "language_info": {
   "codemirror_mode": {
    "name": "ipython",
    "version": 3
   },
   "file_extension": ".py",
   "mimetype": "text/x-python",
   "name": "python",
   "nbconvert_exporter": "python",
   "pygments_lexer": "ipython3",
   "version": "3.7.4"
  }
 },
 "nbformat": 4,
 "nbformat_minor": 2
}
